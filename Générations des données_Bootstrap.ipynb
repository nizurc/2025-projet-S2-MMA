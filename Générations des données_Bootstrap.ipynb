{
 "cells": [
  {
   "cell_type": "code",
   "execution_count": 1,
   "metadata": {},
   "outputs": [],
   "source": [
    "# --------------------------------------------\n",
    "# IMPORT LIBRAIRIES\n",
    "# --------------------------------------------\n",
    "import numpy as np\n",
    "import matplotlib.pyplot as plt\n",
    "import pandas as pd\n",
    "\n",
    "from sklearn.model_selection import train_test_split\n",
    "from sklearn.linear_model import LogisticRegression\n",
    "from sklearn.tree import DecisionTreeClassifier, plot_tree\n",
    "from sklearn.metrics import accuracy_score, classification_report\n",
    "\n",
    "pd.set_option('display.max_rows', None)\n",
    "\n",
    "def sigmoid(x): # Définition de la fonction sigmoïde\n",
    "    return 1 / (1 + np.exp(-x))"
   ]
  },
  {
   "cell_type": "markdown",
   "metadata": {},
   "source": [
    "# 1 - Génération des données"
   ]
  },
  {
   "cell_type": "markdown",
   "metadata": {},
   "source": [
    "## Fonction"
   ]
  },
  {
   "cell_type": "code",
   "execution_count": 4,
   "metadata": {},
   "outputs": [],
   "source": [
    "def genData(Nobs,alpha_tau,alpha_eZ,alpha_eY):\n",
    "    PX = 1/2 # probabilité qu'une covariable vaille 1\n",
    "    NX = np.size(alpha_eZ) # nombre de covariables\n",
    "    alpha0_eZ = -np.sum(alpha_eZ)*PX #intercept du propensity score\n",
    "    alpha0_eY = -(np.sum(alpha_eY) + alpha_tau)*PX #intercept de la variable d'intérêt\n",
    "\n",
    "    # GENERATION DES COVARIABLES X\n",
    "    X = np.random.binomial(1,PX,(Nobs,NX))\n",
    "\n",
    "    # GENERATION DE Z\n",
    "    eZ = sigmoid(X.dot(alpha_eZ) + alpha0_eZ) # Génération du propensity score\n",
    "    Z = np.random.binomial(1,eZ)\n",
    "\n",
    "    # GENERATION DE Y\n",
    "    eY = sigmoid(X.dot(alpha_eY) + alpha_tau*Z + alpha0_eY)\n",
    "    Y = np.random.binomial(1,eY)\n",
    "\n",
    "    # Calcul de E(Y(1)) et E(Y(0))\n",
    "    Z1 = np.ones(Nobs)\n",
    "    Z0 = np.zeros(Nobs)\n",
    "\n",
    "    EY1 = sigmoid(X.dot(alpha_eY) + alpha_tau*Z1 + alpha0_eY)\n",
    "    EY0 = sigmoid(X.dot(alpha_eY) + alpha_tau*Z0 + alpha0_eY)\n",
    "\n",
    "    # MISE EN FORME DES DONNEES\n",
    "    df = pd.DataFrame(X, columns=[f\"X{i+1}\" for i in range(NX)])  # noms des colonnes X1, X2, ...\n",
    "    df['Y'] = Y\n",
    "    df['Z'] = Z\n",
    "    df['EY1'] = EY1\n",
    "    df['EY0'] = EY0\n",
    "\n",
    "    # Réorganiser les colonnes pour avoir Y, Z, puis les X\n",
    "    df = df[['Y', 'EY1', 'EY0', 'Z'] + [f\"X{i+1}\" for i in range(NX)]]\n",
    "\n",
    "    # Calculer la moyenne de Y pour chaque valeur de Z\n",
    "    mean_Y_by_Z = df.groupby('Z')['Y'].mean()\n",
    "\n",
    "    # Afficher les résultats\n",
    "    tau_pf = mean_Y_by_Z[1]-mean_Y_by_Z[0]  \n",
    "    tau_causal = df['EY1'].mean()-df['EY0'].mean()\n",
    "    return df, tau_pf, tau_causal"
   ]
  },
  {
   "cell_type": "markdown",
   "metadata": {},
   "source": [
    "# 2 - Génération des données"
   ]
  },
  {
   "cell_type": "code",
   "execution_count": 107,
   "metadata": {},
   "outputs": [
    {
     "name": "stdout",
     "output_type": "stream",
     "text": [
      "tau_pf = E[Y,Z=1] - E[Y,Z=0] = -0.288\n",
      "tau_causal = E[Y(1)] - E[Y(0)] = 0.151\n"
     ]
    }
   ],
   "source": [
    "Nobs = 1000 # nombre d'observations\n",
    "alpha_tau = 1 #effet du traitement\n",
    "alpha_eZ = [3,1] #effet des covariables sur le propensity score\n",
    "alpha_eY = [-3,-1] #effet des covariables sur la variable d'intérêt\n",
    "df, tau_pf, tau_causal = genData(Nobs,alpha_tau,alpha_eZ,alpha_eY)\n",
    "print('tau_pf = E[Y,Z=1] - E[Y,Z=0] =', round(tau_pf,ndigits=3))   \n",
    "print('tau_causal = E[Y(1)] - E[Y(0)] =', round(tau_causal ,ndigits=3))\n"
   ]
  },
  {
   "cell_type": "markdown",
   "metadata": {},
   "source": [
    "# 2.1 - Génération des données : Bootstrap"
   ]
  },
  {
   "cell_type": "code",
   "execution_count": 110,
   "metadata": {},
   "outputs": [],
   "source": [
    "def createSample(df):\n",
    "\n",
    "    index = np.random.randint(Nobs)\n",
    "    \n",
    "    Ycolumn = df['Y']\n",
    "    EY1column = df['EY1']\n",
    "    EY0column = df['EY0']\n",
    "    Zcolumn = df['Z']\n",
    "    X1column = df['X1']\n",
    "    X2column = df['X2']\n",
    "    \n",
    "    Y = Ycolumn[index]\n",
    "    EY1 = EY1column[index]\n",
    "    EY0 = EY0column[index]\n",
    "    Z = Zcolumn[index]\n",
    "    X1 = X1column[index]\n",
    "    X2 = X2column[index]\n",
    "    \n",
    "    d1 = {'Y': [Y], 'EY1': [EY1], 'EY0': [EY0], 'Z': [Z], 'X1': [X1], 'X2': [X2]}\n",
    "    df1 = pd.DataFrame(data=d1)\n",
    "    \n",
    "    for i in range(1,Nobs):\n",
    "        index = np.random.randint(Nobs)\n",
    "        Ycolumn = df['Y']\n",
    "        EY1column = df['EY1']\n",
    "        EY0column = df['EY0']\n",
    "        Zcolumn = df['Z']\n",
    "        X1column = df['X1']\n",
    "        X2column = df['X2']\n",
    "        Y = Ycolumn[index]\n",
    "        EY1 = EY1column[index]\n",
    "        EY0 = EY0column[index]\n",
    "        Z = Zcolumn[index]\n",
    "        X1 = X1column[index]\n",
    "        X2 = X2column[index]\n",
    "        df1.loc[len(df1)] = [Y,EY1,EY0,Z,X1,X2]\n",
    "    return df1\n"
   ]
  },
  {
   "cell_type": "markdown",
   "metadata": {},
   "source": [
    "# 3 - Modélisation"
   ]
  },
  {
   "cell_type": "markdown",
   "metadata": {},
   "source": [
    "## Outcome regression : moyenne par strate"
   ]
  },
  {
   "cell_type": "code",
   "execution_count": 30,
   "metadata": {},
   "outputs": [
    {
     "name": "stdout",
     "output_type": "stream",
     "text": [
      "       E[Y|Z=0]  E[Y|Z=1]  N(Z=0)  N(Z=1)      Diff  Poids\n",
      "X1 X2                                                     \n",
      "0  0   0.835749  0.939394   207.0    33.0  0.103645  240.0\n",
      "   1   0.592179  0.830986   179.0    71.0  0.238807  250.0\n",
      "1  0   0.202532  0.376344    79.0   186.0  0.173812  265.0\n",
      "   1   0.037037  0.165138    27.0   218.0  0.128101  245.0\n",
      "\n",
      "tau_estimé = 0.162\n"
     ]
    }
   ],
   "source": [
    "# Regrouper par (X1, X2, Z) et calculer la moyenne de Y et l'effectif\n",
    "grouped = df.groupby(['X1', 'X2', 'Z']).agg(\n",
    "    mean_Y=('Y', 'mean'),\n",
    "    count=('Y', 'count')\n",
    ").reset_index()\n",
    "\n",
    "# Réorganiser les résultats pour avoir les colonnes séparées pour Z=0 et Z=1\n",
    "pivoted = grouped.pivot(index=['X1', 'X2'], columns='Z', values=['mean_Y', 'count'])\n",
    "\n",
    "# Renommer les colonnes pour plus de clarté\n",
    "pivoted.columns = ['E[Y|Z=0]', 'E[Y|Z=1]', 'N(Z=0)', 'N(Z=1)']\n",
    "pivoted = pivoted.fillna(0)  # Remplir les valeurs NaN si une combinaison (X1, X2, Z) est absente\n",
    "\n",
    "# Calcul de la différence E[Y | Z=1] - E[Y | Z=0]\n",
    "pivoted['Diff'] = pivoted['E[Y|Z=1]'] - pivoted['E[Y|Z=0]']\n",
    "\n",
    "# Calcul du poids total N(Z=0) + N(Z=1)\n",
    "pivoted['Poids'] = pivoted['N(Z=0)'] + pivoted['N(Z=1)']\n",
    "\n",
    "# Calcul de la moyenne pondérée\n",
    "tau_est1 = (pivoted['Diff'] * pivoted['Poids']).sum() / pivoted['Poids'].sum()\n",
    "\n",
    "# Affichage des résultats\n",
    "print(pivoted)\n",
    "print(\"\\ntau_estimé =\", round(tau_est1, 3))"
   ]
  },
  {
   "cell_type": "markdown",
   "metadata": {},
   "source": [
    "## Outcome regression : régression logistique"
   ]
  },
  {
   "cell_type": "code",
   "execution_count": 33,
   "metadata": {},
   "outputs": [],
   "source": [
    "def regLogY(df):\n",
    "    # Séparer les variables explicatives (X) et la cible (Y)\n",
    "    X = df.drop(columns=['Y'])\n",
    "    Y = df['Y']\n",
    "\n",
    "    # Initialiser et entraîner le modèle\n",
    "    model = LogisticRegression()\n",
    "    model.fit(X, Y)\n",
    "\n",
    "    X1 = X.copy()\n",
    "    X1['Z'] = 1  # Mettre uniquement des 1 dans la colonne Z\n",
    "\n",
    "    X0 = X.copy()\n",
    "    X0['Z'] = 0  # Mettre uniquement des 0 dans la colonne Z\n",
    "\n",
    "    # Prédictions\n",
    "    Y1_pred = model.predict_proba(X1)[:,1]\n",
    "    Y0_pred = model.predict_proba(X0)[:,1]\n",
    "\n",
    "    tau_est = Y1_pred.mean()-Y0_pred.mean()\n",
    "    return tau_est\n",
    "\n"
   ]
  },
  {
   "cell_type": "markdown",
   "metadata": {},
   "source": [
    "## Outcome regression : arbre de décision"
   ]
  },
  {
   "cell_type": "code",
   "execution_count": 36,
   "metadata": {},
   "outputs": [],
   "source": [
    "def regArbY(df):\n",
    "    # Séparer les variables explicatives (X) et la cible (Y)\n",
    "    X = df.drop(columns=['Y'])\n",
    "    Y = df['Y']\n",
    "\n",
    "    # Initialiser et entraîner le modèle\n",
    "    model = DecisionTreeClassifier(max_depth=3, random_state=0)\n",
    "    model.fit(X, Y)\n",
    "\n",
    "    X1 = X.copy()\n",
    "    X1['Z'] = 1  # Mettre uniquement des 1 dans la colonne Z\n",
    "\n",
    "    X0 = X.copy()\n",
    "    X0['Z'] = 0  # Mettre uniquement des 0 dans la colonne Z\n",
    "\n",
    "    # Prédictions\n",
    "    Y1_pred = model.predict_proba(X1)[:,1]\n",
    "    Y0_pred = model.predict_proba(X0)[:,1]\n",
    "\n",
    "    tau_est = Y1_pred.mean()-Y0_pred.mean()\n",
    "    return tau_est"
   ]
  },
  {
   "cell_type": "markdown",
   "metadata": {},
   "source": [
    "## IPW : régression logistique (Hajek)"
   ]
  },
  {
   "cell_type": "code",
   "execution_count": 21,
   "metadata": {},
   "outputs": [],
   "source": [
    "def regLogE(df):\n",
    "    # Séparer les variables explicatives (X) et la cible (Y)\n",
    "    X = df.drop(columns=['Y','Z'])\n",
    "    Z = df['Z']\n",
    "    Y = df['Y']\n",
    "    \n",
    "    # Initialiser et entraîner le modèle\n",
    "    model = LogisticRegression()\n",
    "    model.fit(X, Z)\n",
    "\n",
    "    # Prédictions\n",
    "    e_pred = model.predict_proba(X)[:,1]\n",
    "\n",
    "    tau_est =  np.sum(Z * Y / e_pred) / np.sum(Z / e_pred) - np.sum((1-Z) * Y / (1-e_pred)) / np.sum((1-Z) / (1-e_pred))\n",
    "    return tau_est, e_pred"
   ]
  },
  {
   "cell_type": "markdown",
   "metadata": {},
   "source": [
    "# 4 - Simulation"
   ]
  },
  {
   "cell_type": "code",
   "execution_count": 114,
   "metadata": {},
   "outputs": [
    {
     "name": "stdout",
     "output_type": "stream",
     "text": [
      "tau_pf = E[Y,Z=1] - E[Y,Z=0] = -0.288\n",
      "tau_causal = E[Y(1)] - E[Y(0)] = 0.151\n",
      "tau_estimé (OR reg. log.) = 0.081\n",
      "tau_estimé (OR arb. dec.) = 0.08\n",
      "tau_estimé (IPW reg.log.) = 0.073\n"
     ]
    },
    {
     "data": {
      "image/png": "[encoded data removed]",
      "text/plain": [
       "<Figure size 640x480 with 1 Axes>"
      ]
     },
     "metadata": {},
     "output_type": "display_data"
    }
   ],
   "source": [
    "print('tau_pf = E[Y,Z=1] - E[Y,Z=0] =', round(tau_pf,ndigits=3))   \n",
    "print('tau_causal = E[Y(1)] - E[Y(0)] =', round(tau_causal ,ndigits=3))\n",
    "tau_est2 = regLogY(df)\n",
    "tau_est3 = regArbY(df)\n",
    "tau_est4, e_pred = regLogE(df)\n",
    "print(\"tau_estimé (OR reg. log.) =\", round(tau_est2, 3))\n",
    "print(\"tau_estimé (OR arb. dec.) =\", round(tau_est3, 3))\n",
    "print(\"tau_estimé (IPW reg.log.) =\", round(tau_est4, 3))\n",
    "\n",
    "# Tracer l'histogramme propensity score\n",
    "plt.hist(e_pred, bins=10, edgecolor='black', range=(0, 1))  # 'bins' définit le nombre de bacs dans l'histogramme\n",
    "\n",
    "# Ajouter des labels et un titre\n",
    "plt.xlabel('Valeurs')\n",
    "plt.ylabel('Fréquence')\n",
    "plt.title('Répartition des valeurs du propensity score prédit')\n",
    "\n",
    "# Afficher l'histogramme\n",
    "plt.show()"
   ]
  },
  {
   "cell_type": "markdown",
   "metadata": {},
   "source": [
    "# Bootstrap : Calcul de la variance"
   ]
  },
  {
   "cell_type": "code",
   "execution_count": 133,
   "metadata": {},
   "outputs": [
    {
     "name": "stdout",
     "output_type": "stream",
     "text": [
      "var_estimé (OR reg. log.) = 0.00073\n",
      "var_estimé (OR arb. dec.) = 0.00088\n",
      "var_estimé (IPW reg.log.) = 0.00086\n"
     ]
    }
   ],
   "source": [
    "size = 100\n",
    "taus2 = []\n",
    "taus3 = []\n",
    "taus4 = []\n",
    "for i in range(size):\n",
    "    df1 = createSample(df)\n",
    "    tau_est2 = regLogY(df1)\n",
    "    tau_est3 = regArbY(df1)\n",
    "    tau_est4, e_pred = regLogE(df1)\n",
    "    taus2.append(tau_est2)\n",
    "    taus3.append(tau_est3)\n",
    "    taus4.append(tau_est4)\n",
    "var2 = np.var(taus2)\n",
    "var3 = np.var(taus3)\n",
    "var4 = np.var(taus4)\n",
    "print(\"var_estimé (OR reg. log.) =\", round(var2, 5))\n",
    "print(\"var_estimé (OR arb. dec.) =\", round(var3, 5))\n",
    "print(\"var_estimé (IPW reg.log.) =\", round(var4, 5))"
   ]
  },
  {
   "cell_type": "markdown",
   "metadata": {},
   "source": [
    "# Bootstrap : Intervalles de confiance"
   ]
  },
  {
   "cell_type": "code",
   "execution_count": 142,
   "metadata": {},
   "outputs": [
    {
     "name": "stdout",
     "output_type": "stream",
     "text": [
      "tau_estimé (OR reg. log.) se trouve entre 0.02341 et 0.13205 avec probabilité 0.95\n",
      "tau_estimé (OR arb. dec.) se trouve entre 0.01851 et 0.13886 avec probabilité 0.95\n",
      "tau_estimé (IPW reg.log.) se trouve entre 0.01127 et 0.13139 avec probabilité 0.95\n"
     ]
    }
   ],
   "source": [
    "niveau_alpha = 0.05\n",
    "limite_bas2 = np.percentile(taus2,niveau_alpha*100/2)\n",
    "limite_haut2 = np.percentile(taus2,100-niveau_alpha*100/2)\n",
    "limite_bas3 = np.percentile(taus3,niveau_alpha*100/2)\n",
    "limite_haut3 = np.percentile(taus3,100-niveau_alpha*100/2)\n",
    "limite_bas4 = np.percentile(taus4,niveau_alpha*100/2)\n",
    "limite_haut4 = np.percentile(taus4,100-niveau_alpha*100/2)\n",
    "print(\"tau_estimé (OR reg. log.) se trouve entre\", round(limite_bas2, 5), \"et\", round(limite_haut2, 5), \"avec probabilité\", 1-niveau_alpha)\n",
    "print(\"tau_estimé (OR arb. dec.) se trouve entre\", round(limite_bas3, 5), \"et\", round(limite_haut3, 5), \"avec probabilité\", 1-niveau_alpha)\n",
    "print(\"tau_estimé (IPW reg.log.) se trouve entre\", round(limite_bas4, 5), \"et\", round(limite_haut4, 5), \"avec probabilité\", 1-niveau_alpha)"
   ]
  },
  {
   "cell_type": "code",
   "execution_count": null,
   "metadata": {},
   "outputs": [],
   "source": []
  }
 ],
 "metadata": {
  "kernelspec": {
   "display_name": "Python 3 (ipykernel)",
   "language": "python",
   "name": "python3"
  },
  "language_info": {
   "codemirror_mode": {
    "name": "ipython",
    "version": 3
   },
   "file_extension": ".py",
   "mimetype": "text/x-python",
   "name": "python",
   "nbconvert_exporter": "python",
   "pygments_lexer": "ipython3",
   "version": "3.12.4"
  }
 },
 "nbformat": 4,
 "nbformat_minor": 4
}
