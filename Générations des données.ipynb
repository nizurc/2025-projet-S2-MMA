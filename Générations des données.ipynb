{
 "cells": [
  {
   "cell_type": "code",
   "execution_count": 314,
   "metadata": {},
   "outputs": [],
   "source": [
    "# --------------------------------------------\n",
    "# IMPORT LIBRAIRIES\n",
    "# --------------------------------------------\n",
    "import numpy as np\n",
    "import matplotlib.pyplot as plt\n",
    "import pandas as pd\n",
    "import importlib\n",
    "\n",
    "import func_causalite as f\n",
    "importlib.reload(f)\n",
    "\n",
    "pd.set_option('display.max_rows', None)"
   ]
  },
  {
   "cell_type": "markdown",
   "metadata": {},
   "source": [
    "# Simulation 1 : 2 covariables sans termes croisés"
   ]
  },
  {
   "cell_type": "code",
   "execution_count": 315,
   "metadata": {},
   "outputs": [
    {
     "name": "stdout",
     "output_type": "stream",
     "text": [
      "VALEURS TAU SIMULATION :\n",
      "tau_pf = E[Y,Z=1] - E[Y,Z=0] = -0.165\n",
      "tau_causal = E[Y(1)] - E[Y(0)] = 0.151\n",
      "\n",
      "RESULTATS DE LA MOYENNE STRATIFIÉE :\n",
      "             E[Y|Z=0]  E[Y|Z=1]  N(Z=0)  N(Z=1)      Diff   Poids\n",
      "X1 X2 X3 X4                                                      \n",
      "0  0  0  0   0.877525  0.956466  5495.0   781.0  0.078941  6276.0\n",
      "         1   0.873705  0.946164  5503.0   743.0  0.072459  6246.0\n",
      "      1  0   0.882014  0.953368  5560.0   772.0  0.071353  6332.0\n",
      "         1   0.877058  0.941935  5466.0   775.0  0.064877  6241.0\n",
      "   1  0  0   0.506292  0.714152  3099.0  3201.0  0.207859  6300.0\n",
      "         1   0.496084  0.724006  3064.0  3145.0  0.227923  6209.0\n",
      "      1  0   0.495419  0.744654  3056.0  3133.0  0.249235  6189.0\n",
      "         1   0.500808  0.733013  3093.0  3120.0  0.232205  6213.0\n",
      "1  0  0  0   0.253679  0.494634  3126.0  3075.0  0.240955  6201.0\n",
      "         1   0.275249  0.505128  3208.0  3120.0  0.229879  6328.0\n",
      "      1  0   0.267874  0.514259  3147.0  3156.0  0.246384  6303.0\n",
      "         1   0.278806  0.494862  3081.0  3114.0  0.216056  6195.0\n",
      "   1  0  0   0.041551  0.113808   722.0  5562.0  0.072257  6284.0\n",
      "         1   0.049180  0.122027   732.0  5466.0  0.072847  6198.0\n",
      "      1  0   0.040052  0.114536   774.0  5483.0  0.074484  6257.0\n",
      "         1   0.055944  0.111373   715.0  5513.0  0.055429  6228.0\n",
      "tau_estimé (OR moy. strat) = 0.151\n",
      "\n",
      "RESULTATS DES DIFFERENTS MODELES :\n",
      "tau_estimé (OR reg. log.) = 0.151\n",
      "tau_estimé (OR arb. dec.) = 0.151\n",
      "tau_estimé (IPW reg.log.) = 0.151\n",
      "tau_estimé (IPW arb.dec.) = 0.151\n"
     ]
    }
   ],
   "source": [
    "Nobs = 100000 # nombre d'observations\n",
    "alpha_tau = 1 #effet du traitement\n",
    "alpha_eZ = [2,2,0,0] #effet des covariables sur le propensity score\n",
    "NZ = np.size(alpha_eZ) # nombre de covariables\n",
    "alpha_eY = [-3,-2,0,0] #effet des covariables sur la variable d'intérêt\n",
    "NY = np.size(alpha_eY) # nombre de covariables\n",
    "alphaCross_eZ = np.zeros((NZ,NZ)) #effet croisé des covariables sur le propensity score\n",
    "alphaCross_eY = np.zeros((NY,NY)) #effet croisé des covariables sur la variable d'intérêt\n",
    "alphaCross_eZ[0,1] = 0 #effet croisé des covariables sur le propensity score\n",
    "alphaCross_eY[0,1] = 0 #effet croisé des covariables sur la variable d'intérêt\n",
    "alphaCross_eY[0,2] = 0 #effet croisé des covariables sur la variable d'intérêt\n",
    "alphaCross_eY[0,3] = 0 #effet croisé des covariables sur la variable d'intérêt\n",
    "df, tau_pf, tau_causal = f.genData(Nobs,alpha_tau,alpha_eZ,alpha_eY,alphaCross_eZ,alphaCross_eY)\n",
    "print('VALEURS TAU SIMULATION :')\n",
    "print('tau_pf = E[Y,Z=1] - E[Y,Z=0] =', round(tau_pf,ndigits=3))   \n",
    "print('tau_causal = E[Y(1)] - E[Y(0)] =', round(tau_causal ,ndigits=3))\n",
    "print('')\n",
    "\n",
    "f.print_moy_strat(df)\n",
    "print('')\n",
    "\n",
    "f.print_res_sim(df)"
   ]
  },
  {
   "cell_type": "markdown",
   "metadata": {},
   "source": [
    "# Simulation 2 : 4 covariables avec termes croisés pour Y"
   ]
  },
  {
   "cell_type": "code",
   "execution_count": 316,
   "metadata": {},
   "outputs": [
    {
     "name": "stdout",
     "output_type": "stream",
     "text": [
      "VALEURS TAU SIMULATION :\n",
      "tau_pf = E[Y,Z=1] - E[Y,Z=0] = 0.007\n",
      "tau_causal = E[Y(1)] - E[Y(0)] = 0.287\n",
      "\n",
      "RESULTATS DE LA MOYENNE STRATIFIÉE :\n",
      "             E[Y|Z=0]  E[Y|Z=1]  N(Z=0)  N(Z=1)      Diff   Poids\n",
      "X1 X2 X3 X4                                                      \n",
      "0  0  0  0   0.819954  0.979282  5693.0   724.0  0.159327  6417.0\n",
      "         1   0.629067  0.921147  5993.0   279.0  0.292080  6272.0\n",
      "      1  0   0.918948  0.990471  4602.0  1679.0  0.071522  6281.0\n",
      "         1   0.813575  0.970190  5407.0   738.0  0.156615  6145.0\n",
      "   1  0  0   0.389015  0.812420  3077.0  3124.0  0.423405  6201.0\n",
      "         1   0.184672  0.631361  4619.0  1690.0  0.446689  6309.0\n",
      "      1  0   0.626582  0.924414  1738.0  4604.0  0.297831  6342.0\n",
      "         1   0.361923  0.813337  3078.0  3209.0  0.451414  6287.0\n",
      "1  0  0  0   0.183713  0.624011  3070.0  3032.0  0.440297  6102.0\n",
      "         1   0.380984  0.813814  4512.0  1665.0  0.432830  6177.0\n",
      "      1  0   0.075615  0.360184  1706.0  4556.0  0.284569  6262.0\n",
      "         1   0.193702  0.616301  3144.0  3190.0  0.422599  6334.0\n",
      "   1  0  0   0.019444  0.187747   720.0  5566.0  0.168303  6286.0\n",
      "         1   0.069410  0.367410  1628.0  4529.0  0.298000  6157.0\n",
      "      1  0   0.014599  0.073191   274.0  5875.0  0.058593  6149.0\n",
      "         1   0.028205  0.178032   780.0  5499.0  0.149827  6279.0\n",
      "tau_estimé (OR moy. strat) = 0.284\n",
      "\n",
      "RESULTATS DES DIFFERENTS MODELES :\n",
      "tau_estimé (OR reg. log.) = 0.283\n",
      "tau_estimé (OR arb. dec.) = 0.2\n",
      "tau_estimé (IPW reg.log.) = 0.283\n",
      "tau_estimé (IPW arb.dec.) = 0.284\n"
     ]
    }
   ],
   "source": [
    "Nobs = 100000 # nombre d'observations\n",
    "alpha_tau = 2 #effet du traitement\n",
    "alpha_eZ = [2,2,1,-1] #effet des covariables sur le propensity score\n",
    "NZ = np.size(alpha_eZ) # nombre de covariables\n",
    "alpha_eY = [-3,-2,1,-1] #effet des covariables sur la variable d'intérêt\n",
    "NY = np.size(alpha_eY) # nombre de covariables\n",
    "alphaCross_eZ = np.zeros((NZ,NZ)) #effet croisé des covariables sur le propensity score\n",
    "alphaCross_eY = np.zeros((NY,NY)) #effet croisé des covariables sur la variable d'intérêt\n",
    "alphaCross_eY[0,1] = 2 #effet croisé des covariables sur le propensity score\n",
    "alphaCross_eY[0,1] = 0 #effet croisé des covariables sur la variable d'intérêt\n",
    "alphaCross_eY[0,2] = -2 #effet croisé des covariables sur la variable d'intérêt\n",
    "alphaCross_eY[0,3] = 2 #effet croisé des covariables sur la variable d'intérêt\n",
    "df, tau_pf, tau_causal = f.genData(Nobs,alpha_tau,alpha_eZ,alpha_eY,alphaCross_eZ,alphaCross_eY)\n",
    "print('VALEURS TAU SIMULATION :')\n",
    "print('tau_pf = E[Y,Z=1] - E[Y,Z=0] =', round(tau_pf,ndigits=3))   \n",
    "print('tau_causal = E[Y(1)] - E[Y(0)] =', round(tau_causal ,ndigits=3))\n",
    "print('')\n",
    "\n",
    "f.print_moy_strat(df)\n",
    "print('')\n",
    "\n",
    "f.print_res_sim(df)"
   ]
  },
  {
   "cell_type": "markdown",
   "metadata": {},
   "source": [
    "# Simulation 3 : 4 covariables avec termes croisés pour Z"
   ]
  },
  {
   "cell_type": "code",
   "execution_count": 317,
   "metadata": {},
   "outputs": [
    {
     "name": "stdout",
     "output_type": "stream",
     "text": [
      "VALEURS TAU SIMULATION :\n",
      "tau_pf = E[Y,Z=1] - E[Y,Z=0] = 0.01\n",
      "tau_causal = E[Y(1)] - E[Y(0)] = 0.287\n",
      "\n",
      "RESULTATS DE LA MOYENNE STRATIFIÉE :\n",
      "             E[Y|Z=0]  E[Y|Z=1]  N(Z=0)  N(Z=1)      Diff   Poids\n",
      "X1 X2 X3 X4                                                      \n",
      "0  0  0  0   0.815537  0.971698  5535.0   742.0  0.156161  6277.0\n",
      "         1   0.627806  0.917460  6013.0   315.0  0.289654  6328.0\n",
      "      1  0   0.922571  0.989987  4559.0  1598.0  0.067417  6157.0\n",
      "         1   0.819205  0.958159  5332.0   717.0  0.138954  6049.0\n",
      "   1  0  0   0.395560  0.815730  3198.0  3115.0  0.420171  6313.0\n",
      "         1   0.181698  0.612903  4557.0  1705.0  0.431205  6262.0\n",
      "      1  0   0.636364  0.926429  1650.0  4567.0  0.290065  6217.0\n",
      "         1   0.381307  0.821338  3092.0  3140.0  0.440031  6232.0\n",
      "1  0  0  0   0.181070  0.622179  3159.0  3057.0  0.441109  6216.0\n",
      "         1   0.078096  0.373404  1639.0  4542.0  0.295307  6181.0\n",
      "      1  0   0.362546  0.823804  4587.0  1714.0  0.461258  6301.0\n",
      "         1   0.177828  0.629653  3121.0  3143.0  0.451826  6264.0\n",
      "   1  0  0   0.031537  0.185942   761.0  5577.0  0.154405  6338.0\n",
      "         1   0.013201  0.071476   303.0  6086.0  0.058274  6389.0\n",
      "      1  0   0.077596  0.379273  1714.0  4564.0  0.301676  6278.0\n",
      "         1   0.025921  0.179689   733.0  5465.0  0.153768  6198.0\n",
      "tau_estimé (OR moy. strat) = 0.285\n",
      "\n",
      "RESULTATS DES DIFFERENTS MODELES :\n",
      "tau_estimé (OR reg. log.) = 0.287\n",
      "tau_estimé (OR arb. dec.) = 0.203\n",
      "tau_estimé (IPW reg.log.) = 0.285\n",
      "tau_estimé (IPW arb.dec.) = 0.285\n"
     ]
    }
   ],
   "source": [
    "Nobs = 100000 # nombre d'observations\n",
    "alpha_tau = 2 #effet du traitement\n",
    "alpha_eZ = [2,2,1,-1] #effet des covariables sur le propensity score\n",
    "NZ = np.size(alpha_eZ) # nombre de covariables\n",
    "alpha_eY = [-3,-2,1,-1] #effet des covariables sur la variable d'intérêt\n",
    "NY = np.size(alpha_eY) # nombre de covariables\n",
    "alphaCross_eZ = np.zeros((NZ,NZ)) #effet croisé des covariables sur le propensity score\n",
    "alphaCross_eY = np.zeros((NY,NY)) #effet croisé des covariables sur la variable d'intérêt\n",
    "alphaCross_eZ[0,1] = 2 #effet croisé des covariables sur le propensity score\n",
    "alphaCross_eZ[0,1] = 0 #effet croisé des covariables sur la variable d'intérêt\n",
    "alphaCross_eZ[0,2] = -2 #effet croisé des covariables sur la variable d'intérêt\n",
    "alphaCross_eZ[0,3] = 2 #effet croisé des covariables sur la variable d'intérêt\n",
    "df, tau_pf, tau_causal = f.genData(Nobs,alpha_tau,alpha_eZ,alpha_eY,alphaCross_eZ,alphaCross_eY)\n",
    "print('VALEURS TAU SIMULATION :')\n",
    "print('tau_pf = E[Y,Z=1] - E[Y,Z=0] =', round(tau_pf,ndigits=3))   \n",
    "print('tau_causal = E[Y(1)] - E[Y(0)] =', round(tau_causal ,ndigits=3))\n",
    "print('')\n",
    "\n",
    "f.print_moy_strat(df)\n",
    "print('')\n",
    "\n",
    "f.print_res_sim(df)"
   ]
  },
  {
   "cell_type": "markdown",
   "metadata": {},
   "source": [
    "# Simulation 4 : 4 covariables avec termes croisés pour Y et Z"
   ]
  },
  {
   "cell_type": "code",
   "execution_count": 318,
   "metadata": {},
   "outputs": [
    {
     "name": "stdout",
     "output_type": "stream",
     "text": [
      "VALEURS TAU SIMULATION :\n",
      "tau_pf = E[Y,Z=1] - E[Y,Z=0] = -0.042\n",
      "tau_causal = E[Y(1)] - E[Y(0)] = 0.249\n",
      "\n",
      "RESULTATS DE LA MOYENNE STRATIFIÉE :\n",
      "             E[Y|Z=0]  E[Y|Z=1]  N(Z=0)  N(Z=1)      Diff  Poids\n",
      "X1 X2 X3 X4                                                     \n",
      "0  0  0  0   0.779412  0.922078   544.0    77.0  0.142666  621.0\n",
      "         1   0.585034  0.916667   588.0    24.0  0.331633  612.0\n",
      "      1  0   0.890985  0.982759   477.0   174.0  0.091773  651.0\n",
      "         1   0.788256  0.963636   562.0    55.0  0.175380  617.0\n",
      "   1  0  0   0.326531  0.752542   294.0   295.0  0.426012  589.0\n",
      "         1   0.164760  0.511905   437.0   168.0  0.347145  605.0\n",
      "      1  0   0.596154  0.919492   208.0   472.0  0.323338  680.0\n",
      "         1   0.318644  0.787302   295.0   315.0  0.468658  610.0\n",
      "1  0  0  0   0.145215  0.595611   303.0   319.0  0.450397  622.0\n",
      "         1   0.331210  0.782516   157.0   469.0  0.451306  626.0\n",
      "      1  0   0.767033  0.933333   455.0   165.0  0.166300  620.0\n",
      "         1   0.909639  0.983660   332.0   306.0  0.074022  638.0\n",
      "   1  0  0   0.000000  0.014440    65.0   554.0  0.014440  619.0\n",
      "         1   0.000000  0.026667    35.0   600.0  0.026667  635.0\n",
      "      1  0   0.028571  0.152263   175.0   486.0  0.123692  661.0\n",
      "         1   0.080000  0.287091    75.0   519.0  0.207091  594.0\n",
      "tau_estimé (OR moy. strat) = 0.237\n",
      "\n",
      "RESULTATS DES DIFFERENTS MODELES :\n",
      "tau_estimé (OR reg. log.) = 0.245\n",
      "tau_estimé (OR arb. dec.) = 0.201\n",
      "tau_estimé (IPW reg.log.) = 0.247\n",
      "tau_estimé (IPW arb.dec.) = 0.237\n"
     ]
    }
   ],
   "source": [
    "Nobs = 10000 # nombre d'observations\n",
    "alpha_tau = 2 #effet du traitement\n",
    "alpha_eZ = [2,2,1,-1] #effet des covariables sur le propensity score\n",
    "NZ = np.size(alpha_eZ) # nombre de covariables\n",
    "alpha_eY = [-3,-2,1,-1] #effet des covariables sur la variable d'intérêt\n",
    "NY = np.size(alpha_eY) # nombre de covariables\n",
    "alphaCross_eZ = np.zeros((NZ,NZ)) #effet croisé des covariables sur le propensity score\n",
    "alphaCross_eY = np.zeros((NY,NY)) #effet croisé des covariables sur la variable d'intérêt\n",
    "alphaCross_eZ[0,1] = 2 #effet croisé des covariables sur le propensity score\n",
    "alphaCross_eZ[0,1] = 0 #effet croisé des covariables sur la variable d'intérêt\n",
    "alphaCross_eZ[0,2] = -2 #effet croisé des covariables sur la variable d'intérêt\n",
    "alphaCross_eZ[0,3] = 2 #effet croisé des covariables sur la variable d'intérêt\n",
    "alphaCross_eY[0,1] = -1 #effet croisé des covariables sur le propensity score\n",
    "alphaCross_eY[0,1] = -3 #effet croisé des covariables sur la variable d'intérêt\n",
    "alphaCross_eY[0,2] = 2 #effet croisé des covariables sur la variable d'intérêt\n",
    "alphaCross_eY[0,3] = 2 #effet croisé des covariables sur la variable d'intérêt\n",
    "df, tau_pf, tau_causal = f.genData(Nobs,alpha_tau,alpha_eZ,alpha_eY,alphaCross_eZ,alphaCross_eY)\n",
    "print('VALEURS TAU SIMULATION :')\n",
    "print('tau_pf = E[Y,Z=1] - E[Y,Z=0] =', round(tau_pf,ndigits=3))   \n",
    "print('tau_causal = E[Y(1)] - E[Y(0)] =', round(tau_causal ,ndigits=3))\n",
    "print('')\n",
    "\n",
    "f.print_moy_strat(df)\n",
    "print('')\n",
    "\n",
    "f.print_res_sim(df)"
   ]
  },
  {
   "cell_type": "markdown",
   "metadata": {},
   "source": [
    "# Simulation 5 : 4 covariables avec termes croisés pour Y et Z, mais le modèle Y ne voit que les deux premières variables"
   ]
  }
 ],
 "metadata": {
  "kernelspec": {
   "display_name": "base",
   "language": "python",
   "name": "python3"
  },
  "language_info": {
   "codemirror_mode": {
    "name": "ipython",
    "version": 3
   },
   "file_extension": ".py",
   "mimetype": "text/x-python",
   "name": "python",
   "nbconvert_exporter": "python",
   "pygments_lexer": "ipython3",
   "version": "3.12.2"
  }
 },
 "nbformat": 4,
 "nbformat_minor": 2
}
