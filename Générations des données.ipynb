{
 "cells": [
  {
   "cell_type": "code",
   "execution_count": 450,
   "metadata": {},
   "outputs": [],
   "source": [
    "# --------------------------------------------\n",
    "# IMPORT LIBRAIRIES\n",
    "# --------------------------------------------\n",
    "import numpy as np\n",
    "import matplotlib.pyplot as plt\n",
    "import pandas as pd\n",
    "import importlib\n",
    "\n",
    "import func_causalite as f\n",
    "importlib.reload(f)\n",
    "\n",
    "pd.set_option('display.max_rows', None)"
   ]
  },
  {
   "cell_type": "markdown",
   "metadata": {},
   "source": [
    "# Simulation 1 : 2 covariables sans termes croisés"
   ]
  },
  {
   "cell_type": "code",
   "execution_count": 451,
   "metadata": {},
   "outputs": [
    {
     "name": "stdout",
     "output_type": "stream",
     "text": [
      "VALEURS TAU SIMULATION :\n",
      "tau_pf = E[Y,Z=1] - E[Y,Z=0] = -0.107\n",
      "tau_causal = E[Y(1)] - E[Y(0)] = 0.176\n",
      "\n",
      "RESULTATS DE LA MOYENNE STRATIFIÉE :\n",
      "             E[Y|Z=0]  E[Y|Z=1]   N(Z=0)   N(Z=1)      Diff    Poids\n",
      "X1 X2 X3 X4                                                         \n",
      "0  0  0  0   0.818776  0.919110  55241.0   7504.0  0.100334  62745.0\n",
      "         1   0.816441  0.923426  55154.0   7496.0  0.106985  62650.0\n",
      "      1  0   0.814967  0.923620  55093.0   7371.0  0.108652  62464.0\n",
      "         1   0.818003  0.927783  54759.0   7519.0  0.109780  62278.0\n",
      "   1  0  0   0.378037  0.621799  31362.0  31158.0  0.243761  62520.0\n",
      "         1   0.371795  0.617411  31009.0  31360.0  0.245615  62369.0\n",
      "      1  0   0.376682  0.618871  30981.0  31307.0  0.242189  62288.0\n",
      "         1   0.379634  0.621192  31238.0  31285.0  0.241558  62523.0\n",
      "1  0  0  0   0.377230  0.621386  31172.0  31198.0  0.244156  62370.0\n",
      "         1   0.375506  0.622221  31403.0  31394.0  0.246715  62797.0\n",
      "      1  0   0.371707  0.619762  31315.0  31049.0  0.248055  62364.0\n",
      "         1   0.382346  0.620884  31291.0  31096.0  0.238537  62387.0\n",
      "   1  0  0   0.074696  0.181181   7323.0  54934.0  0.106485  62257.0\n",
      "         1   0.073464  0.183689   7473.0  55191.0  0.110225  62664.0\n",
      "      1  0   0.076148  0.182960   7341.0  55198.0  0.106812  62539.0\n",
      "         1   0.079092  0.182948   7447.0  55338.0  0.103856  62785.0\n",
      "tau_estimé (OR moy. strat) = 0.175\n",
      "\n",
      "RESULTATS DES DIFFERENTS MODELES :\n",
      "tau_estimé (IPW reg.log.) = 0.175\n",
      "tau_estimé (IPW arb.dec.) = 0.175\n",
      "tau_estimé (OR reg. log.) = 0.175\n",
      "tau_estimé (OR arb. dec.) = 0.175\n"
     ]
    }
   ],
   "source": [
    "Nobs = 1000000 # nombre d'observations\n",
    "alpha_tau = 1 #effet du traitement\n",
    "alpha_eZ = [2,2,0,0] #effet des covariables sur le propensity score\n",
    "NZ = np.size(alpha_eZ) # nombre de covariables\n",
    "alpha_eY = [-2,-2,0,0] #effet des covariables sur la variable d'intérêt\n",
    "NY = np.size(alpha_eY) # nombre de covariables\n",
    "alphaCross_eZ = np.zeros((NZ,NZ)) #effet croisé des covariables sur le propensity score\n",
    "alphaCross_eY = np.zeros((NY,NY)) #effet croisé des covariables sur la variable d'intérêt\n",
    "df, tau_pf, tau_causal = f.genData(Nobs,alpha_tau,alpha_eZ,alpha_eY,alphaCross_eZ,alphaCross_eY)\n",
    "print('VALEURS TAU SIMULATION :')\n",
    "print('tau_pf = E[Y,Z=1] - E[Y,Z=0] =', round(tau_pf,ndigits=3))   \n",
    "print('tau_causal = E[Y(1)] - E[Y(0)] =', round(tau_causal ,ndigits=3))\n",
    "print('')\n",
    "\n",
    "f.print_moy_strat(df)\n",
    "print('')\n",
    "\n",
    "f.print_res_sim(df)"
   ]
  },
  {
   "cell_type": "markdown",
   "metadata": {},
   "source": [
    "# Simulation 2 : 2 covariables avec termes croisés pour Y"
   ]
  },
  {
   "cell_type": "code",
   "execution_count": 452,
   "metadata": {},
   "outputs": [
    {
     "name": "stdout",
     "output_type": "stream",
     "text": [
      "VALEURS TAU SIMULATION :\n",
      "tau_pf = E[Y,Z=1] - E[Y,Z=0] = 0.05\n",
      "tau_causal = E[Y(1)] - E[Y(0)] = 0.211\n",
      "\n",
      "RESULTATS DE LA MOYENNE STRATIFIÉE :\n",
      "             E[Y|Z=0]  E[Y|Z=1]   N(Z=0)   N(Z=1)      Diff    Poids\n",
      "X1 X2 X3 X4                                                         \n",
      "0  0  0  0   0.735000  0.884101  55000.0   7334.0  0.149101  62334.0\n",
      "         1   0.727382  0.878373  54835.0   7375.0  0.150991  62210.0\n",
      "      1  0   0.729320  0.881834  54969.0   7261.0  0.152514  62230.0\n",
      "         1   0.733958  0.884739  54608.0   7470.0  0.150781  62078.0\n",
      "   1  0  0   0.271222  0.502714  31170.0  31135.0  0.231492  62305.0\n",
      "         1   0.269198  0.502943  31527.0  31262.0  0.233745  62789.0\n",
      "      1  0   0.269659  0.496055  31588.0  31176.0  0.226395  62764.0\n",
      "         1   0.269016  0.502062  31303.0  31285.0  0.233046  62588.0\n",
      "1  0  0  0   0.272193  0.499069  31327.0  31150.0  0.226876  62477.0\n",
      "         1   0.267740  0.501915  31228.0  30816.0  0.234174  62044.0\n",
      "      1  0   0.266548  0.501886  31379.0  31023.0  0.235338  62402.0\n",
      "         1   0.270009  0.498963  31173.0  31347.0  0.228954  62520.0\n",
      "   1  0  0   0.266791  0.497151   7489.0  55273.0  0.230359  62762.0\n",
      "         1   0.270374  0.497698   7534.0  55174.0  0.227324  62708.0\n",
      "      1  0   0.269534  0.500063   7487.0  55543.0  0.230529  63030.0\n",
      "         1   0.269309  0.500849   7419.0  55340.0  0.231541  62759.0\n",
      "tau_estimé (OR moy. strat) = 0.211\n",
      "\n",
      "RESULTATS DES DIFFERENTS MODELES :\n",
      "tau_estimé (IPW reg.log.) = 0.211\n",
      "tau_estimé (IPW arb.dec.) = 0.211\n",
      "tau_estimé (OR reg. log.) = 0.211\n",
      "tau_estimé (OR arb. dec.) = 0.211\n"
     ]
    }
   ],
   "source": [
    "Nobs = 1000000 # nombre d'observations\n",
    "alpha_tau = 1 #effet du traitement\n",
    "alpha_eZ = [2,2,0,0] #effet des covariables sur le propensity score\n",
    "NZ = np.size(alpha_eZ) # nombre de covariables\n",
    "alpha_eY = [-2,-2,0,0] #effet des covariables sur la variable d'intérêt\n",
    "NY = np.size(alpha_eY) # nombre de covariables\n",
    "alphaCross_eZ = np.zeros((NZ,NZ)) #effet croisé des covariables sur le propensity score\n",
    "alphaCross_eY = np.zeros((NY,NY)) #effet croisé des covariables sur la variable d'intérêt\n",
    "alphaCross_eZ[0,1] = 0 #effet croisé des covariables sur le propensity score\n",
    "alphaCross_eY[0,1] = 2 #effet croisé des covariables sur la variable d'intérêt\n",
    "df, tau_pf, tau_causal = f.genData(Nobs,alpha_tau,alpha_eZ,alpha_eY,alphaCross_eZ,alphaCross_eY)\n",
    "print('VALEURS TAU SIMULATION :')\n",
    "print('tau_pf = E[Y,Z=1] - E[Y,Z=0] =', round(tau_pf,ndigits=3))   \n",
    "print('tau_causal = E[Y(1)] - E[Y(0)] =', round(tau_causal ,ndigits=3))\n",
    "print('')\n",
    "\n",
    "f.print_moy_strat(df)\n",
    "print('')\n",
    "\n",
    "f.print_res_sim(df)"
   ]
  },
  {
   "cell_type": "markdown",
   "metadata": {},
   "source": [
    "# Simulation 3 : 2 covariables avec termes croisés pour Z"
   ]
  },
  {
   "cell_type": "code",
   "execution_count": 453,
   "metadata": {},
   "outputs": [
    {
     "name": "stdout",
     "output_type": "stream",
     "text": [
      "VALEURS TAU SIMULATION :\n",
      "tau_pf = E[Y,Z=1] - E[Y,Z=0] = 0.012\n",
      "tau_causal = E[Y(1)] - E[Y(0)] = 0.176\n",
      "\n",
      "RESULTATS DE LA MOYENNE STRATIFIÉE :\n",
      "             E[Y|Z=0]  E[Y|Z=1]   N(Z=0)   N(Z=1)      Diff    Poids\n",
      "X1 X2 X3 X4                                                         \n",
      "0  0  0  0   0.817922  0.926709  50775.0  11352.0  0.108787  62127.0\n",
      "         1   0.817155  0.925730  51109.0  11364.0  0.108575  62473.0\n",
      "      1  0   0.818224  0.920961  51184.0  11488.0  0.102737  62672.0\n",
      "         1   0.817514  0.927387  51215.0  11334.0  0.109872  62549.0\n",
      "   1  0  0   0.381972  0.622734  23486.0  38840.0  0.240762  62326.0\n",
      "         1   0.380076  0.624775  23640.0  38886.0  0.244699  62526.0\n",
      "      1  0   0.381646  0.622940  23603.0  38779.0  0.241294  62382.0\n",
      "         1   0.375262  0.620830  23389.0  39204.0  0.245568  62593.0\n",
      "1  0  0  0   0.383067  0.624347  23505.0  39044.0  0.241279  62549.0\n",
      "         1   0.375043  0.621264  23488.0  39175.0  0.246221  62663.0\n",
      "      1  0   0.373887  0.624124  23812.0  38800.0  0.250237  62612.0\n",
      "         1   0.377841  0.620992  23756.0  38767.0  0.243151  62523.0\n",
      "   1  0  0   0.075849  0.181340  23639.0  38938.0  0.105490  62577.0\n",
      "         1   0.073865  0.182346  23746.0  38926.0  0.108481  62672.0\n",
      "      1  0   0.074979  0.182338  23153.0  38862.0  0.107358  62015.0\n",
      "         1   0.075506  0.180931  23892.0  38849.0  0.105425  62741.0\n",
      "tau_estimé (OR moy. strat) = 0.176\n",
      "\n",
      "RESULTATS DES DIFFERENTS MODELES :\n",
      "tau_estimé (IPW reg.log.) = 0.177\n",
      "tau_estimé (IPW arb.dec.) = 0.176\n",
      "tau_estimé (OR reg. log.) = 0.176\n",
      "tau_estimé (OR arb. dec.) = 0.176\n"
     ]
    }
   ],
   "source": [
    "Nobs = 1000000 # nombre d'observations\n",
    "alpha_tau = 1 #effet du traitement\n",
    "alpha_eZ = [2,2,0,0] #effet des covariables sur le propensity score\n",
    "NZ = np.size(alpha_eZ) # nombre de covariables\n",
    "alpha_eY = [-2,-2,0,0] #effet des covariables sur la variable d'intérêt\n",
    "NY = np.size(alpha_eY) # nombre de covariables\n",
    "alphaCross_eZ = np.zeros((NZ,NZ)) #effet croisé des covariables sur le propensity score\n",
    "alphaCross_eY = np.zeros((NY,NY)) #effet croisé des covariables sur la variable d'intérêt\n",
    "alphaCross_eZ[0,1] = -2 #effet croisé des covariables sur le propensity score\n",
    "alphaCross_eY[0,1] = 0 #effet croisé des covariables sur la variable d'intérêt\n",
    "df, tau_pf, tau_causal = f.genData(Nobs,alpha_tau,alpha_eZ,alpha_eY,alphaCross_eZ,alphaCross_eY)\n",
    "print('VALEURS TAU SIMULATION :')\n",
    "print('tau_pf = E[Y,Z=1] - E[Y,Z=0] =', round(tau_pf,ndigits=3))   \n",
    "print('tau_causal = E[Y(1)] - E[Y(0)] =', round(tau_causal ,ndigits=3))\n",
    "print('')\n",
    "\n",
    "f.print_moy_strat(df)\n",
    "print('')\n",
    "\n",
    "f.print_res_sim(df)"
   ]
  },
  {
   "cell_type": "markdown",
   "metadata": {},
   "source": [
    "# Simulation 4 : 2 covariables avec termes croisés pour Y et Z"
   ]
  },
  {
   "cell_type": "code",
   "execution_count": 454,
   "metadata": {},
   "outputs": [
    {
     "name": "stdout",
     "output_type": "stream",
     "text": [
      "VALEURS TAU SIMULATION :\n",
      "tau_pf = E[Y,Z=1] - E[Y,Z=0] = 0.071\n",
      "tau_causal = E[Y(1)] - E[Y(0)] = 0.211\n",
      "\n",
      "RESULTATS DE LA MOYENNE STRATIFIÉE :\n",
      "             E[Y|Z=0]  E[Y|Z=1]   N(Z=0)   N(Z=1)      Diff    Poids\n",
      "X1 X2 X3 X4                                                         \n",
      "0  0  0  0   0.730018  0.884168  51096.0  11508.0  0.154150  62604.0\n",
      "         1   0.732912  0.878974  51088.0  11262.0  0.146062  62350.0\n",
      "      1  0   0.729814  0.873340  51198.0  11369.0  0.143526  62567.0\n",
      "         1   0.727040  0.879798  50817.0  11464.0  0.152757  62281.0\n",
      "   1  0  0   0.270787  0.496009  23524.0  38713.0  0.225222  62237.0\n",
      "         1   0.270108  0.500849  23772.0  38870.0  0.230741  62642.0\n",
      "      1  0   0.269088  0.494818  23483.0  39267.0  0.225729  62750.0\n",
      "         1   0.270283  0.502703  24097.0  38657.0  0.232421  62754.0\n",
      "1  0  0  0   0.263480  0.499820  23516.0  38880.0  0.236340  62396.0\n",
      "         1   0.273034  0.498031  23400.0  38843.0  0.224996  62243.0\n",
      "      1  0   0.263687  0.500548  23198.0  39253.0  0.236861  62451.0\n",
      "         1   0.264727  0.502091  23579.0  38969.0  0.237364  62548.0\n",
      "   1  0  0   0.267506  0.501944  23349.0  38833.0  0.234438  62182.0\n",
      "         1   0.269294  0.496717  23673.0  38990.0  0.227423  62663.0\n",
      "      1  0   0.270223  0.500257  23958.0  38868.0  0.230034  62826.0\n",
      "         1   0.269159  0.500103  23696.0  38810.0  0.230944  62506.0\n",
      "tau_estimé (OR moy. strat) = 0.211\n",
      "\n",
      "RESULTATS DES DIFFERENTS MODELES :\n",
      "tau_estimé (IPW reg.log.) = 0.162\n",
      "tau_estimé (IPW arb.dec.) = 0.211\n",
      "tau_estimé (OR reg. log.) = 0.162\n",
      "tau_estimé (OR arb. dec.) = 0.211\n"
     ]
    }
   ],
   "source": [
    "Nobs = 1000000 # nombre d'observations\n",
    "alpha_tau = 1 #effet du traitement\n",
    "alpha_eZ = [2,2,0,0] #effet des covariables sur le propensity score\n",
    "NZ = np.size(alpha_eZ) # nombre de covariables\n",
    "alpha_eY = [-2,-2,0,0] #effet des covariables sur la variable d'intérêt\n",
    "NY = np.size(alpha_eY) # nombre de covariables\n",
    "alphaCross_eZ = np.zeros((NZ,NZ)) #effet croisé des covariables sur le propensity score\n",
    "alphaCross_eY = np.zeros((NY,NY)) #effet croisé des covariables sur la variable d'intérêt\n",
    "alphaCross_eZ[0,1] = -2 #effet croisé des covariables sur le propensity score\n",
    "alphaCross_eY[0,1] = 2 #effet croisé des covariables sur la variable d'intérêt\n",
    "df, tau_pf, tau_causal = f.genData(Nobs,alpha_tau,alpha_eZ,alpha_eY,alphaCross_eZ,alphaCross_eY)\n",
    "print('VALEURS TAU SIMULATION :')\n",
    "print('tau_pf = E[Y,Z=1] - E[Y,Z=0] =', round(tau_pf,ndigits=3))   \n",
    "print('tau_causal = E[Y(1)] - E[Y(0)] =', round(tau_causal ,ndigits=3))\n",
    "print('')\n",
    "\n",
    "f.print_moy_strat(df)\n",
    "print('')\n",
    "\n",
    "f.print_res_sim(df)"
   ]
  },
  {
   "cell_type": "markdown",
   "metadata": {},
   "source": [
    "# Simulation 5 : 4 covariables pour Y, 2 pour Z, mais le modèle Y ne voit que les deux premières variables"
   ]
  },
  {
   "cell_type": "code",
   "execution_count": 461,
   "metadata": {},
   "outputs": [
    {
     "name": "stdout",
     "output_type": "stream",
     "text": [
      "VALEURS TAU SIMULATION :\n",
      "tau_pf = E[Y,Z=1] - E[Y,Z=0] = 0.148\n",
      "tau_causal = E[Y(1)] - E[Y(0)] = 0.148\n",
      "\n",
      "RESULTATS DE LA MOYENNE STRATIFIÉE :\n",
      "             E[Y|Z=0]  E[Y|Z=1]   N(Z=0)   N(Z=1)      Diff    Poids\n",
      "X1 X2 X3 X4                                                         \n",
      "0  0  0  0   0.377708  0.587245  61582.0   1129.0  0.209538  62711.0\n",
      "         1   0.814412  0.925956  54912.0   7347.0  0.111544  62259.0\n",
      "      1  0   0.817048  0.924624  54905.0   7456.0  0.107577  62361.0\n",
      "         1   0.971975  0.988489  31151.0  31447.0  0.016513  62598.0\n",
      "   1  0  0   0.074308  0.180867  55055.0   7453.0  0.106559  62508.0\n",
      "         1   0.378323  0.622854  31185.0  31102.0  0.244531  62287.0\n",
      "      1  0   0.378636  0.623117  31558.0  31405.0  0.244481  62963.0\n",
      "         1   0.824618  0.924906   7401.0  54518.0  0.100287  61919.0\n",
      "1  0  0  0   0.076454  0.181405  55275.0   7486.0  0.104951  62761.0\n",
      "         1   0.377677  0.619838  31384.0  31284.0  0.242161  62668.0\n",
      "      1  0   0.379083  0.624240  31199.0  31097.0  0.245158  62296.0\n",
      "         1   0.827627  0.923445   7652.0  54915.0  0.095819  62567.0\n",
      "   1  0  0   0.010691  0.027020  31148.0  31310.0  0.016329  62458.0\n",
      "         1   0.077735  0.182513   7577.0  54955.0  0.104778  62532.0\n",
      "      1  0   0.071201  0.186281   7542.0  54815.0  0.115080  62357.0\n",
      "         1   0.379556  0.622375   1125.0  61630.0  0.242820  62755.0\n",
      "tau_estimé (OR moy. strat) = 0.144\n",
      "\n",
      "RESULTATS DES DIFFERENTS MODELES :\n",
      "tau_estimé (IPW reg.log.) = 0.144\n",
      "tau_estimé (IPW arb.dec.) = 0.144\n",
      "tau_estimé (OR reg. log.) = 0.352\n",
      "tau_estimé (OR arb. dec.) = 0.355\n"
     ]
    }
   ],
   "source": [
    "Nobs = 1000000 # nombre d'observations\n",
    "alpha_tau = 1 #effet du traitement\n",
    "alpha_eZ = [2,2,2,2] #effet des covariables sur le propensity score\n",
    "NZ = np.size(alpha_eZ) # nombre de covariables\n",
    "alpha_eY = [-2,-2,2,2] #effet des covariables sur la variable d'intérêt\n",
    "NY = np.size(alpha_eY) # nombre de covariables\n",
    "alphaCross_eZ = np.zeros((NZ,NZ)) #effet croisé des covariables sur le propensity score\n",
    "alphaCross_eY = np.zeros((NY,NY)) #effet croisé des covariables sur la variable d'intérêt\n",
    "df, tau_pf, tau_causal = f.genData(Nobs,alpha_tau,alpha_eZ,alpha_eY,alphaCross_eZ,alphaCross_eY)\n",
    "print('VALEURS TAU SIMULATION :')\n",
    "print('tau_pf = E[Y,Z=1] - E[Y,Z=0] =', round(tau_pf,ndigits=3))   \n",
    "print('tau_causal = E[Y(1)] - E[Y(0)] =', round(tau_causal ,ndigits=3))\n",
    "print('')\n",
    "\n",
    "f.print_moy_strat(df)\n",
    "print('')\n",
    "\n",
    "vars_to_includeE = None\n",
    "vars_to_includeY = ['X1','X2']\n",
    "f.print_res_sim(df,vars_to_includeY,vars_to_includeE)"
   ]
  },
  {
   "cell_type": "markdown",
   "metadata": {},
   "source": [
    "# Simulation 5 : 4 covariables pour 2, 2 pour Y, mais le modèle Z ne voit que les deux premières variables"
   ]
  },
  {
   "cell_type": "code",
   "execution_count": 464,
   "metadata": {},
   "outputs": [
    {
     "name": "stdout",
     "output_type": "stream",
     "text": [
      "VALEURS TAU SIMULATION :\n",
      "tau_pf = E[Y,Z=1] - E[Y,Z=0] = 0.147\n",
      "tau_causal = E[Y(1)] - E[Y(0)] = 0.147\n",
      "\n",
      "RESULTATS DE LA MOYENNE STRATIFIÉE :\n",
      "             E[Y|Z=0]  E[Y|Z=1]   N(Z=0)   N(Z=1)      Diff    Poids\n",
      "X1 X2 X3 X4                                                         \n",
      "0  0  0  0   0.381818  0.621307  61524.0   1117.0  0.239489  62641.0\n",
      "         1   0.820146  0.918951  55456.0   7477.0  0.098806  62933.0\n",
      "      1  0   0.815305  0.921393  54977.0   7493.0  0.106089  62470.0\n",
      "         1   0.971834  0.989968  31421.0  31399.0  0.018134  62820.0\n",
      "   1  0  0   0.076804  0.182855  54815.0   7629.0  0.106051  62444.0\n",
      "         1   0.379405  0.623576  31270.0  30896.0  0.244171  62166.0\n",
      "      1  0   0.372523  0.622834  31437.0  31400.0  0.250312  62837.0\n",
      "         1   0.821221  0.923366   7568.0  54910.0  0.102145  62478.0\n",
      "1  0  0  0   0.075690  0.182296  54855.0   7422.0  0.106605  62277.0\n",
      "         1   0.382863  0.627978  31160.0  31146.0  0.245115  62306.0\n",
      "      1  0   0.374016  0.619357  31365.0  31100.0  0.245341  62465.0\n",
      "         1   0.816007  0.924970   7484.0  55098.0  0.108963  62582.0\n",
      "   1  0  0   0.010716  0.029348  31168.0  31246.0  0.018632  62414.0\n",
      "         1   0.080343  0.181316   7580.0  55395.0  0.100973  62975.0\n",
      "      1  0   0.077865  0.184124   7513.0  54409.0  0.106259  61922.0\n",
      "         1   0.387698  0.625864   1073.0  61197.0  0.238166  62270.0\n",
      "tau_estimé (OR moy. strat) = 0.146\n",
      "\n",
      "RESULTATS DES DIFFERENTS MODELES :\n",
      "tau_estimé (IPW reg.log.) = 0.354\n",
      "tau_estimé (IPW arb.dec.) = 0.354\n",
      "tau_estimé (OR reg. log.) = 0.147\n",
      "tau_estimé (OR arb. dec.) = 0.146\n"
     ]
    }
   ],
   "source": [
    "Nobs = 1000000 # nombre d'observations\n",
    "alpha_tau = 1 #effet du traitement\n",
    "alpha_eZ = [2,2,2,2] #effet des covariables sur le propensity score\n",
    "NZ = np.size(alpha_eZ) # nombre de covariables\n",
    "alpha_eY = [-2,-2,2,2] #effet des covariables sur la variable d'intérêt\n",
    "NY = np.size(alpha_eY) # nombre de covariables\n",
    "alphaCross_eZ = np.zeros((NZ,NZ)) #effet croisé des covariables sur le propensity score\n",
    "alphaCross_eY = np.zeros((NY,NY)) #effet croisé des covariables sur la variable d'intérêt\n",
    "df, tau_pf, tau_causal = f.genData(Nobs,alpha_tau,alpha_eZ,alpha_eY,alphaCross_eZ,alphaCross_eY)\n",
    "print('VALEURS TAU SIMULATION :')\n",
    "print('tau_pf = E[Y,Z=1] - E[Y,Z=0] =', round(tau_pf,ndigits=3))   \n",
    "print('tau_causal = E[Y(1)] - E[Y(0)] =', round(tau_causal ,ndigits=3))\n",
    "print('')\n",
    "\n",
    "f.print_moy_strat(df)\n",
    "print('')\n",
    "\n",
    "vars_to_includeE = ['X1','X2']\n",
    "vars_to_includeY = None\n",
    "f.print_res_sim(df,vars_to_includeY,vars_to_includeE)"
   ]
  }
 ],
 "metadata": {
  "kernelspec": {
   "display_name": "base",
   "language": "python",
   "name": "python3"
  },
  "language_info": {
   "codemirror_mode": {
    "name": "ipython",
    "version": 3
   },
   "file_extension": ".py",
   "mimetype": "text/x-python",
   "name": "python",
   "nbconvert_exporter": "python",
   "pygments_lexer": "ipython3",
   "version": "3.12.2"
  }
 },
 "nbformat": 4,
 "nbformat_minor": 2
}
