{
 "cells": [
  {
   "cell_type": "code",
   "execution_count": 20,
   "metadata": {},
   "outputs": [],
   "source": [
    "# --------------------------------------------\n",
    "# IMPORT LIBRAIRIES\n",
    "# --------------------------------------------\n",
    "import numpy as np\n",
    "import matplotlib.pyplot as plt\n",
    "import pandas as pd\n",
    "import importlib\n",
    "\n",
    "import func_causalite as f\n",
    "importlib.reload(f)\n",
    "\n",
    "pd.set_option('display.max_rows', None)"
   ]
  },
  {
   "cell_type": "markdown",
   "metadata": {},
   "source": [
    "# Simulation 1 : 2 covariables sans termes croisés"
   ]
  },
  {
   "cell_type": "code",
   "execution_count": null,
   "metadata": {},
   "outputs": [
    {
     "name": "stdout",
     "output_type": "stream",
     "text": [
      "VALEURS TAU SIMULATION :\n",
      "tau_pf = E[Y,Z=1] - E[Y,Z=0] = -0.127\n",
      "tau_causal = E[Y(1)] - E[Y(0)] = 0.175\n",
      "\n",
      "RESULTATS DE LA MOYENNE STRATIFIÉE :\n",
      "             E[Y|Z=0]  E[Y|Z=1]  N(Z=0)  N(Z=1)      Diff  Poids\n",
      "X1 X2 X3 X4                                                     \n",
      "0  0  0  0   0.750000  0.950000   168.0    40.0  0.200000  208.0\n",
      "         1   0.666667  0.736842    78.0    19.0  0.070175   97.0\n",
      "      1  0   0.707692  0.772727    65.0    22.0  0.065035   87.0\n",
      "         1   0.735294  0.909091    34.0    11.0  0.173797   45.0\n",
      "   1  0  0   0.166667  0.428571    36.0    56.0  0.261905   92.0\n",
      "         1   0.352941  0.466667    17.0    30.0  0.113725   47.0\n",
      "      1  0   0.500000  0.500000    18.0    40.0  0.000000   58.0\n",
      "         1   0.400000  0.750000     5.0    20.0  0.350000   25.0\n",
      "1  0  0  0   0.216216  0.465517    37.0    58.0  0.249301   95.0\n",
      "         1   0.333333  0.517241    15.0    29.0  0.183908   44.0\n",
      "      1  0   0.294118  0.375000    17.0    32.0  0.080882   49.0\n",
      "         1   0.500000  0.600000    12.0    15.0  0.100000   27.0\n",
      "   1  0  0   0.250000  0.117647     4.0    51.0 -0.132353   55.0\n",
      "         1   0.000000  0.085714     0.0    35.0  0.085714   35.0\n",
      "      1  0   0.000000  0.100000     1.0    20.0  0.100000   21.0\n",
      "         1   0.000000  0.000000     0.0    15.0  0.000000   15.0\n",
      "tau_estimé (OR moy. strat) = 0.136\n",
      "\n",
      "RESULTATS DES DIFFERENTS MODELES :\n",
      "tau_estimé (IPW reg.log.) = 0.109\n",
      "tau_estimé (IPW arb.dec.) = 0.112\n",
      "tau_estimé (OR reg. log.) = 0.133\n",
      "tau_estimé (OR arb. dec.) = 0.133\n",
      "\n",
      "INTERVALLE DE CONFIANCE IPW reg. log.\n",
      "0.05295017391395258-0.16890516065100045\n",
      "INTERVALLE DE CONFIANCE IPW arb. dec.\n",
      "0.05003722486356957-0.19885059170898578\n",
      "INTERVALLE DE CONFIANCE OR reg. log.\n",
      "0.08356641213656554-0.19145742157050993\n",
      "INTERVALLE DE CONFIANCE OR arb. dec.\n",
      "0.05003722486356967-0.19885059170898592\n"
     ]
    }
   ],
   "source": [
    "Nobs = 1000 # nombre d'observations\n",
    "alpha_tau = 1 #effet du traitement\n",
    "alpha_eZ = [2,2,0,0] #effet des covariables sur le propensity score\n",
    "NX = np.size(alpha_eZ) # nombre de covariables\n",
    "alpha_eY = [-2,-2,0,0] #effet des covariables sur la variable d'intérêt\n",
    "alphaXCrossX_eZ = np.zeros((NX,NX)) #effet croisé des covariables sur le propensity score\n",
    "alphaXCrossX_eY = np.zeros((NX,NX)) #effet croisé des covariables sur la variable d'intérêt\n",
    "alphaXCrossZ_eY = [0,0,0,0]\n",
    "df, tau_pf, tau_causal = f.genData(Nobs,alpha_tau,alpha_eZ,alpha_eY,alphaXCrossX_eZ,alphaXCrossX_eY,alphaXCrossZ_eY)\n",
    "print('VALEURS TAU SIMULATION :')\n",
    "print('tau_pf = E[Y,Z=1] - E[Y,Z=0] =', round(tau_pf,ndigits=3))   \n",
    "print('tau_causal = E[Y(1)] - E[Y(0)] =', round(tau_causal ,ndigits=3))\n",
    "print('')\n",
    "\n",
    "f.print_moy_strat(df)\n",
    "print('')\n",
    "\n",
    "f.print_res_sim(df)"
   ]
  },
  {
   "cell_type": "code",
   "execution_count": null,
   "metadata": {},
   "outputs": [],
   "source": [
    "lbLogY,ubLogY,lbArbY,ubArbY,lbLogE,ubLogE,lbArbE,ubArbE = f.calculBootstrap(df,100)\n",
    "print('')\n",
    "print('INTERVALLE DE CONFIANCE IPW reg. log.')\n",
    "print(str(lbLogE) + '-' + str(ubLogE))\n",
    "print('INTERVALLE DE CONFIANCE IPW arb. dec.')\n",
    "print(str(lbArbE) + '-' + str(ubArbE))\n",
    "print('INTERVALLE DE CONFIANCE OR reg. log.')\n",
    "print(str(lbLogY) + '-' + str(ubLogY))\n",
    "print('INTERVALLE DE CONFIANCE OR arb. dec.')\n",
    "print(str(lbArbY) + '-' + str(ubArbY))"
   ]
  },
  {
   "cell_type": "markdown",
   "metadata": {},
   "source": [
    "# Simulation 2 : 2 covariables avec termes croisés pour Y"
   ]
  },
  {
   "cell_type": "code",
   "execution_count": 26,
   "metadata": {},
   "outputs": [
    {
     "name": "stdout",
     "output_type": "stream",
     "text": [
      "VALEURS TAU SIMULATION :\n",
      "tau_pf = E[Y,Z=1] - E[Y,Z=0] = -0.117\n",
      "tau_causal = E[Y(1)] - E[Y(0)] = 0.166\n",
      "\n",
      "RESULTATS DE LA MOYENNE STRATIFIÉE :\n",
      "             E[Y|Z=0]  E[Y|Z=1]    N(Z=0)   N(Z=1)      Diff     Poids\n",
      "X1 X2 X3 X4                                                           \n",
      "0  0  0  0   0.772397  0.903402  156927.0  41326.0  0.131005  198253.0\n",
      "         1   0.773101  0.901006   78383.0  20779.0  0.127905   99162.0\n",
      "      1  0   0.772268  0.899247   78285.0  20724.0  0.126979   99009.0\n",
      "         1   0.771651  0.905538   38866.0  10311.0  0.133886   49177.0\n",
      "   1  0  0   0.315431  0.557934   33367.0  64988.0  0.242502   98355.0\n",
      "         1   0.317189  0.558781   16662.0  32757.0  0.241593   49419.0\n",
      "      1  0   0.307201  0.556727   16761.0  32524.0  0.249526   49285.0\n",
      "         1   0.312071  0.559809    8450.0  16377.0  0.247738   24827.0\n",
      "1  0  0  0   0.314040  0.556514   33069.0  65055.0  0.242473   98124.0\n",
      "         1   0.313408  0.551663   16729.0  32509.0  0.238255   49238.0\n",
      "      1  0   0.317670  0.557490   16876.0  32797.0  0.239820   49673.0\n",
      "         1   0.318709  0.553214    8456.0  16415.0  0.234505   24871.0\n",
      "   1  0  0   0.009186  0.022720    3157.0  45775.0  0.013534   48932.0\n",
      "         1   0.009901  0.021819    1616.0  23053.0  0.011918   24669.0\n",
      "      1  0   0.002606  0.021827    1535.0  23137.0  0.019221   24672.0\n",
      "         1   0.014342  0.022218     767.0  11567.0  0.007877   12334.0\n",
      "tau_estimé (OR moy. strat) = 0.167\n",
      "\n",
      "RESULTATS DES DIFFERENTS MODELES :\n",
      "tau_estimé (IPW reg.log.) = 0.166\n",
      "tau_estimé (IPW arb.dec.) = 0.167\n",
      "tau_estimé (OR reg. log.) = 0.177\n",
      "tau_estimé (OR arb. dec.) = 0.167\n"
     ]
    }
   ],
   "source": [
    "Nobs = 1000000 # nombre d'observations\n",
    "alpha_tau = 1 #effet du traitement\n",
    "alpha_eZ = [2,2,0,0] #effet des covariables sur le propensity score\n",
    "NX = np.size(alpha_eZ) # nombre de covariables\n",
    "alpha_eY = [-2,-2,0,0] #effet des covariables sur la variable d'intérêt\n",
    "alphaXCrossX_eZ = np.zeros((NX,NX)) #effet croisé des covariables sur le propensity score\n",
    "alphaXCrossX_eY = np.zeros((NX,NX)) #effet croisé des covariables sur la variable d'intérêt\n",
    "alphaXCrossX_eZ[0,1] = 0 #effet croisé des covariables sur le propensity score\n",
    "alphaXCrossX_eY[0,1] = -2 #effet croisé des covariables sur la variable d'intérêt\n",
    "alphaXCrossZ_eY = [0,0,0,0]\n",
    "df, tau_pf, tau_causal = f.genData(Nobs,alpha_tau,alpha_eZ,alpha_eY,alphaXCrossX_eZ,alphaXCrossX_eY,alphaXCrossZ_eY)\n",
    "print('VALEURS TAU SIMULATION :')\n",
    "print('tau_pf = E[Y,Z=1] - E[Y,Z=0] =', round(tau_pf,ndigits=3))   \n",
    "print('tau_causal = E[Y(1)] - E[Y(0)] =', round(tau_causal ,ndigits=3))\n",
    "print('')\n",
    "\n",
    "f.print_moy_strat(df)\n",
    "print('')\n",
    "\n",
    "f.print_res_sim(df)"
   ]
  },
  {
   "cell_type": "code",
   "execution_count": null,
   "metadata": {},
   "outputs": [],
   "source": [
    "lbLogY,ubLogY,lbArbY,ubArbY,lbLogE,ubLogE,lbArbE,ubArbE = f.calculBootstrap(df,100)\n",
    "print('')\n",
    "print('INTERVALLE DE CONFIANCE IPW reg. log.')\n",
    "print(str(lbLogE) + '-' + str(ubLogE))\n",
    "print('INTERVALLE DE CONFIANCE IPW arb. dec.')\n",
    "print(str(lbArbE) + '-' + str(ubArbE))\n",
    "print('INTERVALLE DE CONFIANCE OR reg. log.')\n",
    "print(str(lbLogY) + '-' + str(ubLogY))\n",
    "print('INTERVALLE DE CONFIANCE OR arb. dec.')\n",
    "print(str(lbArbY) + '-' + str(ubArbY))"
   ]
  },
  {
   "cell_type": "markdown",
   "metadata": {},
   "source": [
    "# Simulation 3 : 2 covariables avec termes croisés pour Z"
   ]
  },
  {
   "cell_type": "code",
   "execution_count": 547,
   "metadata": {},
   "outputs": [
    {
     "name": "stdout",
     "output_type": "stream",
     "text": [
      "VALEURS TAU SIMULATION :\n",
      "tau_pf = E[Y,Z=1] - E[Y,Z=0] = -0.044\n",
      "tau_causal = E[Y(1)] - E[Y(0)] = 0.177\n",
      "\n",
      "RESULTATS DE LA MOYENNE STRATIFIÉE :\n",
      "             E[Y|Z=0]  E[Y|Z=1]    N(Z=0)   N(Z=1)      Diff     Poids\n",
      "X1 X2 X3 X4                                                           \n",
      "0  0  0  0   0.733709  0.878182  148518.0  48901.0  0.144473  197419.0\n",
      "         1   0.730766  0.882801   74255.0  24309.0  0.152035   98564.0\n",
      "      1  0   0.731953  0.882391   74834.0  24522.0  0.150438   99356.0\n",
      "         1   0.732603  0.880045   37405.0  12338.0  0.147443   49743.0\n",
      "   1  0  0   0.272054  0.504038   28884.0  70213.0  0.231984   99097.0\n",
      "         1   0.272068  0.502436   14195.0  34892.0  0.230368   49087.0\n",
      "      1  0   0.268267  0.495925   14452.0  34723.0  0.227658   49175.0\n",
      "         1   0.273988  0.503796    6993.0  17517.0  0.229808   24510.0\n",
      "1  0  0  0   0.271659  0.500555   28775.0  70248.0  0.228896   99023.0\n",
      "         1   0.269196  0.497491   14313.0  35068.0  0.228295   49381.0\n",
      "      1  0   0.273420  0.498006   14176.0  35110.0  0.224586   49286.0\n",
      "         1   0.271731  0.506461    7121.0  17413.0  0.234729   24534.0\n",
      "   1  0  0   0.046956  0.115892   14226.0  35050.0  0.068935   49276.0\n",
      "         1   0.045253  0.122568    7226.0  17272.0  0.077315   24498.0\n",
      "      1  0   0.047757  0.117922    7224.0  17520.0  0.070165   24744.0\n",
      "         1   0.045506  0.116597    3516.0   8791.0  0.071090   12307.0\n",
      "tau_estimé (OR moy. strat) = 0.176\n",
      "\n",
      "RESULTATS DES DIFFERENTS MODELES :\n",
      "tau_estimé (IPW reg.log.) = 0.194\n",
      "tau_estimé (IPW arb.dec.) = 0.176\n",
      "tau_estimé (OR reg. log.) = 0.176\n",
      "tau_estimé (OR arb. dec.) = 0.176\n"
     ]
    }
   ],
   "source": [
    "Nobs = 1000000 # nombre d'observations\n",
    "alpha_tau = 1 #effet du traitement\n",
    "alpha_eZ = [2,2,0,0] #effet des covariables sur le propensity score\n",
    "NX = np.size(alpha_eZ) # nombre de covariables\n",
    "alpha_eY = [-2,-2,0,0] #effet des covariables sur la variable d'intérêt\n",
    "alphaXCrossX_eZ = np.zeros((NX,NX)) #effet croisé des covariables sur le propensity score\n",
    "alphaXCrossX_eY = np.zeros((NX,NX)) #effet croisé des covariables sur la variable d'intérêt\n",
    "alphaXCrossX_eZ[0,1] = -2 #effet croisé des covariables sur le propensity score\n",
    "alphaXCrossX_eY[0,1] = 0 #effet croisé des covariables sur la variable d'intérêt\n",
    "alphaXCrossZ_eY = [0,0,0,0]\n",
    "df, tau_pf, tau_causal = f.genData(Nobs,alpha_tau,alpha_eZ,alpha_eY,alphaXCrossX_eZ,alphaXCrossX_eY,alphaXCrossZ_eY)\n",
    "print('VALEURS TAU SIMULATION :')\n",
    "print('tau_pf = E[Y,Z=1] - E[Y,Z=0] =', round(tau_pf,ndigits=3))   \n",
    "print('tau_causal = E[Y(1)] - E[Y(0)] =', round(tau_causal ,ndigits=3))\n",
    "print('')\n",
    "\n",
    "f.print_moy_strat(df)\n",
    "print('')\n",
    "\n",
    "f.print_res_sim(df)"
   ]
  },
  {
   "cell_type": "markdown",
   "metadata": {},
   "source": [
    "# Simulation 4 : 2 covariables avec termes croisés pour Y et Z"
   ]
  },
  {
   "cell_type": "code",
   "execution_count": 542,
   "metadata": {},
   "outputs": [
    {
     "name": "stdout",
     "output_type": "stream",
     "text": [
      "VALEURS TAU SIMULATION :\n",
      "tau_pf = E[Y,Z=1] - E[Y,Z=0] = 0.072\n",
      "tau_causal = E[Y(1)] - E[Y(0)] = 0.257\n",
      "\n",
      "RESULTATS DE LA MOYENNE STRATIFIÉE :\n",
      "             E[Y|Z=0]  E[Y|Z=1]    N(Z=0)   N(Z=1)      Diff     Poids\n",
      "X1 X2 X3 X4                                                           \n",
      "0  0  0  0   0.773022  0.903457  147975.0  48735.0  0.130435  196710.0\n",
      "         1   0.773703  0.899513   74875.0  24650.0  0.125810   99525.0\n",
      "      1  0   0.770498  0.901221   74082.0  24327.0  0.130723   98409.0\n",
      "         1   0.772389  0.902652   37195.0  12368.0  0.130263   49563.0\n",
      "   1  0  0   0.313570  0.554449   28571.0  69873.0  0.240879   98444.0\n",
      "         1   0.316479  0.556258   14576.0  34946.0  0.239779   49522.0\n",
      "      1  0   0.317532  0.553883   14619.0  34872.0  0.236351   49491.0\n",
      "         1   0.311868  0.551183    7314.0  17330.0  0.239315   24644.0\n",
      "1  0  0  0   0.313566  0.900951   28836.0  70218.0  0.587385   99054.0\n",
      "         1   0.316217  0.902562   14392.0  35325.0  0.586345   49717.0\n",
      "      1  0   0.308926  0.903056   14340.0  34814.0  0.594130   49154.0\n",
      "         1   0.317523  0.902382    7105.0  17466.0  0.584859   24571.0\n",
      "   1  0  0   0.008634  0.142413   14362.0  35032.0  0.133779   49394.0\n",
      "         1   0.007885  0.143775    7229.0  17590.0  0.135890   24819.0\n",
      "      1  0   0.008742  0.147206    7092.0  17343.0  0.138464   24435.0\n",
      "         1   0.007989  0.143642    3630.0   8918.0  0.135653   12548.0\n",
      "tau_estimé (OR moy. strat) = 0.257\n",
      "\n",
      "RESULTATS DES DIFFERENTS MODELES :\n",
      "tau_estimé (IPW reg.log.) = 0.3\n",
      "tau_estimé (IPW arb.dec.) = 0.257\n",
      "tau_estimé (OR reg. log.) = 0.274\n",
      "tau_estimé (OR arb. dec.) = 0.257\n"
     ]
    }
   ],
   "source": [
    "Nobs = 1000000 # nombre d'observations\n",
    "alpha_tau = 1 #effet du traitement\n",
    "alpha_eZ = [2,2,0,0] #effet des covariables sur le propensity score\n",
    "NX = np.size(alpha_eZ) # nombre de covariables\n",
    "alpha_eY = [-2,-2,0,0] #effet des covariables sur la variable d'intérêt\n",
    "alphaXCrossX_eZ = np.zeros((NX,NX)) #effet croisé des covariables sur le propensity score\n",
    "alphaXCrossX_eY = np.zeros((NX,NX)) #effet croisé des covariables sur la variable d'intérêt\n",
    "alphaXCrossX_eZ[0,1] = -2 #effet croisé des covariables sur le propensity score\n",
    "alphaXCrossX_eY[0,1] = -2 #effet croisé des covariables sur la variable d'intérêt\n",
    "alphaXCrossZ_eY = [2,0,0,0]\n",
    "df, tau_pf, tau_causal = f.genData(Nobs,alpha_tau,alpha_eZ,alpha_eY,alphaXCrossX_eZ,alphaXCrossX_eY,alphaXCrossZ_eY)\n",
    "print('VALEURS TAU SIMULATION :')\n",
    "print('tau_pf = E[Y,Z=1] - E[Y,Z=0] =', round(tau_pf,ndigits=3))   \n",
    "print('tau_causal = E[Y(1)] - E[Y(0)] =', round(tau_causal ,ndigits=3))\n",
    "print('')\n",
    "\n",
    "f.print_moy_strat(df)\n",
    "print('')\n",
    "\n",
    "f.print_res_sim(df)"
   ]
  },
  {
   "cell_type": "markdown",
   "metadata": {},
   "source": [
    "# Simulation 5 : 2 covariables, mais le modèle Y ne voit que la première"
   ]
  },
  {
   "cell_type": "code",
   "execution_count": 520,
   "metadata": {},
   "outputs": [
    {
     "name": "stdout",
     "output_type": "stream",
     "text": [
      "VALEURS TAU SIMULATION :\n",
      "tau_pf = E[Y,Z=1] - E[Y,Z=0] = -0.095\n",
      "tau_causal = E[Y(1)] - E[Y(0)] = 0.177\n",
      "\n",
      "RESULTATS DE LA MOYENNE STRATIFIÉE :\n",
      "             E[Y|Z=0]  E[Y|Z=1]    N(Z=0)   N(Z=1)      Diff     Poids\n",
      "X1 X2 X3 X4                                                           \n",
      "0  0  0  0   0.731822  0.878919  157213.0  40890.0  0.147097  198103.0\n",
      "         1   0.732106  0.878279   78490.0  20621.0  0.146173   99111.0\n",
      "      1  0   0.731221  0.877924   78161.0  20520.0  0.146703   98681.0\n",
      "         1   0.731229  0.874499   38996.0  10223.0  0.143270   49219.0\n",
      "   1  0  0   0.266335  0.495471   33180.0  64698.0  0.229136   97878.0\n",
      "         1   0.268115  0.498586   16713.0  32885.0  0.230471   49598.0\n",
      "      1  0   0.266338  0.499358   16832.0  32712.0  0.233020   49544.0\n",
      "         1   0.269845  0.496926    8390.0  16268.0  0.227081   24658.0\n",
      "1  0  0  0   0.268171  0.498504   33680.0  65189.0  0.230333   98869.0\n",
      "         1   0.264133  0.501704   16628.0  32868.0  0.237571   49496.0\n",
      "      1  0   0.270783  0.497122   16456.0  32483.0  0.226339   48939.0\n",
      "         1   0.263719  0.509177    8346.0  16509.0  0.245458   24855.0\n",
      "   1  0  0   0.043333  0.120499    3300.0  46017.0  0.077166   49317.0\n",
      "         1   0.048659  0.121631    1603.0  23226.0  0.072972   24829.0\n",
      "      1  0   0.048309  0.117495    1656.0  22886.0  0.069186   24542.0\n",
      "         1   0.036432  0.123562     796.0  11565.0  0.087130   12361.0\n",
      "tau_estimé (OR moy. strat) = 0.176\n",
      "\n",
      "RESULTATS DES DIFFERENTS MODELES :\n",
      "tau_estimé (IPW reg.log.) = 0.177\n",
      "tau_estimé (IPW arb.dec.) = 0.176\n",
      "tau_estimé (OR reg. log.) = 0.023\n",
      "tau_estimé (OR arb. dec.) = 0.028\n"
     ]
    }
   ],
   "source": [
    "Nobs = 1000000 # nombre d'observations\n",
    "alpha_tau = 1 #effet du traitement\n",
    "alpha_eZ = [2,2,0,0] #effet des covariables sur le propensity score\n",
    "NX = np.size(alpha_eZ) # nombre de covariables\n",
    "alpha_eY = [-2,-2,0,0] #effet des covariables sur la variable d'intérêt\n",
    "alphaXCrossX_eZ = np.zeros((NX,NX)) #effet croisé des covariables sur le propensity score\n",
    "alphaXCrossX_eY = np.zeros((NX,NX)) #effet croisé des covariables sur la variable d'intérêt\n",
    "alphaXCrossZ_eY = [0,0,0,0]\n",
    "df, tau_pf, tau_causal = f.genData(Nobs,alpha_tau,alpha_eZ,alpha_eY,alphaXCrossX_eZ,alphaXCrossX_eY,alphaXCrossZ_eY)\n",
    "print('VALEURS TAU SIMULATION :')\n",
    "print('tau_pf = E[Y,Z=1] - E[Y,Z=0] =', round(tau_pf,ndigits=3))   \n",
    "print('tau_causal = E[Y(1)] - E[Y(0)] =', round(tau_causal ,ndigits=3))\n",
    "print('')\n",
    "\n",
    "f.print_moy_strat(df)\n",
    "print('')\n",
    "\n",
    "vars_to_includeE = None\n",
    "vars_to_includeY = ['X1']\n",
    "f.print_res_sim(df,vars_to_includeY,vars_to_includeE)"
   ]
  },
  {
   "cell_type": "markdown",
   "metadata": {},
   "source": [
    "# Simulation 5 : 2 covariables, mais le modèle Z ne voit que la première"
   ]
  },
  {
   "cell_type": "code",
   "execution_count": 524,
   "metadata": {},
   "outputs": [
    {
     "name": "stdout",
     "output_type": "stream",
     "text": [
      "VALEURS TAU SIMULATION :\n",
      "tau_pf = E[Y,Z=1] - E[Y,Z=0] = -0.094\n",
      "tau_causal = E[Y(1)] - E[Y(0)] = 0.177\n",
      "\n",
      "RESULTATS DE LA MOYENNE STRATIFIÉE :\n",
      "             E[Y|Z=0]  E[Y|Z=1]    N(Z=0)   N(Z=1)      Diff     Poids\n",
      "X1 X2 X3 X4                                                           \n",
      "0  0  0  0   0.729654  0.881830  156322.0  40975.0  0.152176  197297.0\n",
      "         1   0.730313  0.879172   77868.0  20583.0  0.148859   98451.0\n",
      "      1  0   0.731653  0.880684   78298.0  20584.0  0.149031   98882.0\n",
      "         1   0.732122  0.885618   38790.0  10430.0  0.153497   49220.0\n",
      "   1  0  0   0.268146  0.500852   33478.0  65137.0  0.232706   98615.0\n",
      "         1   0.278142  0.501081   16772.0  32382.0  0.222939   49154.0\n",
      "      1  0   0.265487  0.496117   16901.0  32966.0  0.230630   49867.0\n",
      "         1   0.273361  0.502313    8326.0  16215.0  0.228952   24541.0\n",
      "1  0  0  0   0.271882  0.499017   33566.0  65641.0  0.227135   99207.0\n",
      "         1   0.265817  0.498576   16786.0  32647.0  0.232759   49433.0\n",
      "      1  0   0.269550  0.497541   16624.0  32942.0  0.227991   49566.0\n",
      "         1   0.268738  0.498111    8432.0  16145.0  0.229373   24577.0\n",
      "   1  0  0   0.053566  0.117348    3155.0  46460.0  0.063782   49615.0\n",
      "         1   0.055000  0.120324    1600.0  22855.0  0.065324   24455.0\n",
      "      1  0   0.046089  0.121160    1649.0  23308.0  0.075072   24957.0\n",
      "         1   0.044678  0.117699     761.0  11402.0  0.073021   12163.0\n",
      "tau_estimé (OR moy. strat) = 0.176\n",
      "\n",
      "RESULTATS DES DIFFERENTS MODELES :\n",
      "tau_estimé (IPW reg.log.) = 0.029\n",
      "tau_estimé (IPW arb.dec.) = 0.029\n",
      "tau_estimé (OR reg. log.) = 0.177\n",
      "tau_estimé (OR arb. dec.) = 0.176\n"
     ]
    }
   ],
   "source": [
    "Nobs = 1000000 # nombre d'observations\n",
    "alpha_tau = 1 #effet du traitement\n",
    "alpha_eZ = [2,2,0,0] #effet des covariables sur le propensity score\n",
    "NX = np.size(alpha_eZ) # nombre de covariables\n",
    "alpha_eY = [-2,-2,0,0] #effet des covariables sur la variable d'intérêt\n",
    "alphaXCrossX_eZ = np.zeros((NX,NX)) #effet croisé des covariables sur le propensity score\n",
    "alphaXCrossX_eY = np.zeros((NX,NX)) #effet croisé des covariables sur la variable d'intérêt\n",
    "alphaXCrossZ_eY = [0,0,0,0]\n",
    "df, tau_pf, tau_causal = f.genData(Nobs,alpha_tau,alpha_eZ,alpha_eY,alphaXCrossX_eZ,alphaXCrossX_eY,alphaXCrossZ_eY)\n",
    "print('VALEURS TAU SIMULATION :')\n",
    "print('tau_pf = E[Y,Z=1] - E[Y,Z=0] =', round(tau_pf,ndigits=3))   \n",
    "print('tau_causal = E[Y(1)] - E[Y(0)] =', round(tau_causal ,ndigits=3))\n",
    "print('')\n",
    "\n",
    "f.print_moy_strat(df)\n",
    "print('')\n",
    "\n",
    "vars_to_includeE = ['X1']\n",
    "vars_to_includeY = None\n",
    "f.print_res_sim(df,vars_to_includeY,vars_to_includeE)"
   ]
  },
  {
   "cell_type": "markdown",
   "metadata": {},
   "source": [
    "# Simulation 6"
   ]
  },
  {
   "cell_type": "code",
   "execution_count": 545,
   "metadata": {},
   "outputs": [
    {
     "name": "stdout",
     "output_type": "stream",
     "text": [
      "VALEURS TAU SIMULATION :\n",
      "tau_pf = E[Y,Z=1] - E[Y,Z=0] = 0.135\n",
      "tau_causal = E[Y(1)] - E[Y(0)] = 0.277\n",
      "\n",
      "RESULTATS DE LA MOYENNE STRATIFIÉE :\n",
      "             E[Y|Z=0]  E[Y|Z=1]    N(Z=0)   N(Z=1)      Diff     Poids\n",
      "X1 X2 X3 X4                                                           \n",
      "0  0  0  0   0.471802  0.707236  148948.0  49019.0  0.235434  197967.0\n",
      "         1   0.868021  0.978584   74110.0  24421.0  0.110563   98531.0\n",
      "      1  0   0.868261  0.979773   74215.0  24620.0  0.111511   98835.0\n",
      "         1   0.981843  0.999347   37230.0  12245.0  0.017504   49475.0\n",
      "   1  0  0   0.107023  0.469576   28807.0  70323.0  0.362554   99130.0\n",
      "         1   0.473319  0.947870   14280.0  34759.0  0.474550   49039.0\n",
      "      1  0   0.464495  0.945481   14336.0  35272.0  0.480986   49608.0\n",
      "         1   0.872276  0.997530    7250.0  17412.0  0.125255   24662.0\n",
      "1  0  0  0   0.107493  0.469229   28839.0  70132.0  0.361736   98971.0\n",
      "         1   0.473629  0.946776   14334.0  34928.0  0.473147   49262.0\n",
      "      1  0   0.477725  0.948846   14276.0  34875.0  0.471121   49151.0\n",
      "         1   0.871126  0.997123    7131.0  17725.0  0.125997   24856.0\n",
      "   1  0  0   0.001739  0.042810   14375.0  34501.0  0.041071   48876.0\n",
      "         1   0.015636  0.474271    7163.0  17587.0  0.458635   24750.0\n",
      "      1  0   0.017159  0.474055    7285.0  17325.0  0.456896   24610.0\n",
      "         1   0.116839  0.951194    3569.0   8708.0  0.834355   12277.0\n",
      "tau_estimé (OR moy. strat) = 0.276\n",
      "\n",
      "RESULTATS DES DIFFERENTS MODELES :\n",
      "tau_estimé (IPW reg.log.) = 0.322\n",
      "tau_estimé (IPW arb.dec.) = 0.276\n",
      "tau_estimé (OR reg. log.) = 0.289\n",
      "tau_estimé (OR arb. dec.) = 0.276\n"
     ]
    }
   ],
   "source": [
    "Nobs = 1000000 # nombre d'observations\n",
    "alpha_tau = 1 #effet du traitement\n",
    "alpha_eZ = [2,2,0,0] #effet des covariables sur le propensity score\n",
    "NX = np.size(alpha_eZ) # nombre de covariables\n",
    "alpha_eY = [-2,-2,2,2] #effet des covariables sur la variable d'intérêt\n",
    "alphaXCrossX_eZ = np.zeros((NX,NX)) #effet croisé des covariables sur le propensity score\n",
    "alphaXCrossX_eY = np.zeros((NX,NX)) #effet croisé des covariables sur la variable d'intérêt\n",
    "alphaXCrossX_eZ[0,1] = -2 #effet croisé des covariables sur le propensity score\n",
    "alphaXCrossX_eY[0,1] = -2 #effet croisé des covariables sur la variable d'intérêt\n",
    "alphaXCrossZ_eY = [1,1,1,1]\n",
    "df, tau_pf, tau_causal = f.genData(Nobs,alpha_tau,alpha_eZ,alpha_eY,alphaXCrossX_eZ,alphaXCrossX_eY,alphaXCrossZ_eY)\n",
    "print('VALEURS TAU SIMULATION :')\n",
    "print('tau_pf = E[Y,Z=1] - E[Y,Z=0] =', round(tau_pf,ndigits=3))   \n",
    "print('tau_causal = E[Y(1)] - E[Y(0)] =', round(tau_causal ,ndigits=3))\n",
    "print('')\n",
    "\n",
    "f.print_moy_strat(df)\n",
    "print('')\n",
    "\n",
    "vars_to_includeE = ['X1','X2']\n",
    "vars_to_includeY = ['X1','X2']\n",
    "f.print_res_sim(df,vars_to_includeY,vars_to_includeE)"
   ]
  }
 ],
 "metadata": {
  "kernelspec": {
   "display_name": "base",
   "language": "python",
   "name": "python3"
  },
  "language_info": {
   "codemirror_mode": {
    "name": "ipython",
    "version": 3
   },
   "file_extension": ".py",
   "mimetype": "text/x-python",
   "name": "python",
   "nbconvert_exporter": "python",
   "pygments_lexer": "ipython3",
   "version": "3.12.2"
  }
 },
 "nbformat": 4,
 "nbformat_minor": 2
}
