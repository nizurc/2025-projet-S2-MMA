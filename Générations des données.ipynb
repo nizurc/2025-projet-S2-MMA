{
 "cells": [
  {
   "cell_type": "code",
   "execution_count": null,
   "metadata": {},
   "outputs": [],
   "source": [
    "# import libraries\n",
    "\n",
    "import numpy as np\n",
    "import matplotlib.pyplot as plt\n",
    "import pandas as pd\n",
    "pd.set_option('display.max_rows', None)"
   ]
  },
  {
   "cell_type": "code",
   "execution_count": 79,
   "metadata": {},
   "outputs": [],
   "source": [
    "# PARAMETRES DE SIMULATION\n",
    "\n",
    "Nobs = 100 # nombre d'observations\n",
    "NX = 6 # nombre de covariables\n",
    "PX = 1/2 # probabilité qu'une covariable vaille 1\n",
    "tau = 0.1 #effet du traitement\n",
    "\n",
    "alpha_eX = [1,1,-1,0,0,0] #effet des covariables sur le propensity score\n",
    "alpha0_eX = -np.sum(alpha_eX)*PX #intercept du propensity score\n",
    "alphaYX = [1,-1,1,-1,1,-1] #effet des covariables sur la variable d'intérêt\n",
    "alpha0Y = 1/2 #intercept de la variable d'intérêt\n",
    "\n",
    "\n",
    "# GENERATION DES COVARIABLES X\n",
    "\n",
    "X = np.random.binomial(1,PX,(Nobs,NX))\n",
    "#print(DataX)\n",
    "\n",
    "# GENERATION DU PROPENSITY SCORE\n",
    "\n",
    "def sigmoid(x): # Définition de la fonction sigmoïde\n",
    "    return 1 / (1 + np.exp(-x))\n",
    "\n",
    "eX = sigmoid(X.dot(alpha_eX) + alpha0_eX)\n",
    "#print(eX)\n",
    "\n",
    "# GENERATION DE Z\n",
    "Z=np.random.binomial(1,eX)\n",
    "\n",
    "# GENERATION DE Y\n",
    "eY = sigmoid(X.dot(alphaYX) + tau*Z + alpha0Y)\n",
    "Y = np.random.binomial(1,eY)\n",
    "\n",
    "# Créer un DataFrame Pandas avec Y, Z et X\n",
    "df = pd.DataFrame(X, columns=[f\"X{i+1}\" for i in range(NX)])  # noms des colonnes X1, X2, ...\n",
    "df['Y'] = Y\n",
    "df['Z'] = Z\n",
    "\n",
    "# Réorganiser les colonnes pour avoir Y, Z, puis les X\n",
    "df = df[['Y', 'Z'] + [f\"X{i+1}\" for i in range(NX)]]\n",
    "\n",
    "# Exporter le DataFrame au format CSV\n",
    "df.to_csv(\"data.csv\", index=False)"
   ]
  }
 ],
 "metadata": {
  "kernelspec": {
   "display_name": "base",
   "language": "python",
   "name": "python3"
  },
  "language_info": {
   "codemirror_mode": {
    "name": "ipython",
    "version": 3
   },
   "file_extension": ".py",
   "mimetype": "text/x-python",
   "name": "python",
   "nbconvert_exporter": "python",
   "pygments_lexer": "ipython3",
   "version": "3.12.2"
  }
 },
 "nbformat": 4,
 "nbformat_minor": 2
}
