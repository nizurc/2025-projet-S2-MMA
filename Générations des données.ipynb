{
 "cells": [
  {
   "cell_type": "code",
   "execution_count": 20,
   "metadata": {},
   "outputs": [],
   "source": [
    "# --------------------------------------------\n",
    "# IMPORT LIBRAIRIES\n",
    "# --------------------------------------------\n",
    "import numpy as np\n",
    "import matplotlib.pyplot as plt\n",
    "import pandas as pd\n",
    "import importlib\n",
    "\n",
    "import func_causalite as f\n",
    "importlib.reload(f)\n",
    "\n",
    "pd.set_option('display.max_rows', None)"
   ]
  },
  {
   "cell_type": "markdown",
   "metadata": {},
   "source": [
    "# Simulation 1 : 2 covariables sans termes croisés"
   ]
  },
  {
   "cell_type": "code",
   "execution_count": 51,
   "metadata": {},
   "outputs": [
    {
     "name": "stdout",
     "output_type": "stream",
     "text": [
      "VALEURS TAU SIMULATION :\n",
      "tau_pf = E[Y,Z=1] - E[Y,Z=0] = -0.079\n",
      "tau_causal = E[Y(1)] - E[Y(0)] = 0.179\n",
      "\n",
      "RESULTATS DE LA MOYENNE STRATIFIÉE :\n",
      "             E[Y|Z=0]  E[Y|Z=1]  N(Z=0)  N(Z=1)      Diff  Poids\n",
      "X1 X2 X3 X4                                                     \n",
      "0  0  0  0   0.694030  0.927273   134.0    55.0  0.233243  189.0\n",
      "         1   0.760000  0.923077    75.0    13.0  0.163077   88.0\n",
      "      1  0   0.779221  0.909091    77.0    22.0  0.129870   99.0\n",
      "         1   0.727273  0.900000    33.0    10.0  0.172727   43.0\n",
      "   1  0  0   0.361111  0.451220    36.0    82.0  0.090108  118.0\n",
      "         1   0.238095  0.375000    21.0    32.0  0.136905   53.0\n",
      "      1  0   0.285714  0.451613    21.0    31.0  0.165899   52.0\n",
      "         1   0.714286  0.647059     7.0    17.0 -0.067227   24.0\n",
      "1  0  0  0   0.258065  0.492958    31.0    71.0  0.234893  102.0\n",
      "         1   0.000000  0.575758    11.0    33.0  0.575758   44.0\n",
      "      1  0   0.187500  0.439024    16.0    41.0  0.251524   57.0\n",
      "         1   0.428571  0.461538     7.0    13.0  0.032967   20.0\n",
      "   1  0  0   0.166667  0.121951     6.0    41.0 -0.044715   47.0\n",
      "         1   0.000000  0.250000     2.0    16.0  0.250000   18.0\n",
      "      1  0   0.000000  0.068966     1.0    29.0  0.068966   30.0\n",
      "         1   0.000000  0.400000     1.0    15.0  0.400000   16.0\n",
      "tau_estimé (OR moy. strat) = 0.179\n",
      "\n",
      "RESULTATS DES DIFFERENTS MODELES :\n",
      "tau_estimé (IPW reg.log.) = 0.171\n",
      "tau_estimé (IPW arb.dec.) = 0.179\n",
      "tau_estimé (OR reg. log.) = 0.159\n",
      "tau_estimé (OR arb. dec.) = 0.179\n"
     ]
    }
   ],
   "source": [
    "Nobs = 1000 # nombre d'observations\n",
    "alpha_tau = 1 #effet du traitement\n",
    "alpha_eZ = [2,2,0,0] #effet des covariables sur le propensity score\n",
    "NX = np.size(alpha_eZ) # nombre de covariables\n",
    "alpha_eY = [-2,-2,0,0] #effet des covariables sur la variable d'intérêt\n",
    "alphaXCrossX_eZ = np.zeros((NX,NX)) #effet croisé des covariables sur le propensity score\n",
    "alphaXCrossX_eY = np.zeros((NX,NX)) #effet croisé des covariables sur la variable d'intérêt\n",
    "alphaXCrossZ_eY = [0,0,0,0]\n",
    "df, tau_pf, tau_causal = f.genData(Nobs,alpha_tau,alpha_eZ,alpha_eY,alphaXCrossX_eZ,alphaXCrossX_eY,alphaXCrossZ_eY)\n",
    "print('VALEURS TAU SIMULATION :')\n",
    "print('tau_pf = E[Y,Z=1] - E[Y,Z=0] =', round(tau_pf,ndigits=3))   \n",
    "print('tau_causal = E[Y(1)] - E[Y(0)] =', round(tau_causal ,ndigits=3))\n",
    "print('')\n",
    "\n",
    "f.print_moy_strat(df)\n",
    "print('')\n",
    "\n",
    "f.print_res_sim(df)"
   ]
  },
  {
   "cell_type": "code",
   "execution_count": 52,
   "metadata": {},
   "outputs": [
    {
     "name": "stdout",
     "output_type": "stream",
     "text": [
      "\n",
      "INTERVALLE DE CONFIANCE IPW reg. log.\n",
      "0.10688741917320917-0.2204261855379876\n",
      "INTERVALLE DE CONFIANCE IPW arb. dec.\n",
      "0.11412611986190739-0.22561446926710219\n",
      "INTERVALLE DE CONFIANCE OR reg. log.\n",
      "0.09634589499837136-0.2013451711130708\n",
      "INTERVALLE DE CONFIANCE OR arb. dec.\n",
      "0.11412611986190736-0.2256144692671021\n"
     ]
    }
   ],
   "source": [
    "lbLogY,ubLogY,lbArbY,ubArbY,lbLogE,ubLogE,lbArbE,ubArbE = f.calculBootstrap(df,100)\n",
    "print('')\n",
    "print('INTERVALLE DE CONFIANCE IPW reg. log.')\n",
    "print(str(lbLogE) + '-' + str(ubLogE))\n",
    "print('INTERVALLE DE CONFIANCE IPW arb. dec.')\n",
    "print(str(lbArbE) + '-' + str(ubArbE))\n",
    "print('INTERVALLE DE CONFIANCE OR reg. log.')\n",
    "print(str(lbLogY) + '-' + str(ubLogY))\n",
    "print('INTERVALLE DE CONFIANCE OR arb. dec.')\n",
    "print(str(lbArbY) + '-' + str(ubArbY))"
   ]
  },
  {
   "cell_type": "markdown",
   "metadata": {},
   "source": [
    "# Simulation 2 : 2 covariables avec termes croisés pour Y"
   ]
  },
  {
   "cell_type": "code",
   "execution_count": 46,
   "metadata": {},
   "outputs": [
    {
     "name": "stdout",
     "output_type": "stream",
     "text": [
      "VALEURS TAU SIMULATION :\n",
      "tau_pf = E[Y,Z=1] - E[Y,Z=0] = -0.117\n",
      "tau_causal = E[Y(1)] - E[Y(0)] = 0.166\n",
      "\n",
      "RESULTATS DE LA MOYENNE STRATIFIÉE :\n",
      "             E[Y|Z=0]  E[Y|Z=1]    N(Z=0)   N(Z=1)      Diff     Poids\n",
      "X1 X2 X3 X4                                                           \n",
      "0  0  0  0   0.772875  0.904089  156046.0  41528.0  0.131214  197574.0\n",
      "         1   0.772810  0.901823   78199.0  20738.0  0.129012   98937.0\n",
      "      1  0   0.772651  0.903317   78342.0  20593.0  0.130666   98935.0\n",
      "         1   0.773709  0.901858   39246.0  10281.0  0.128148   49527.0\n",
      "   1  0  0   0.316956  0.556793   33197.0  65351.0  0.239837   98548.0\n",
      "         1   0.310637  0.559067   16640.0  32810.0  0.248430   49450.0\n",
      "      1  0   0.314879  0.554206   16527.0  32607.0  0.239327   49134.0\n",
      "         1   0.311423  0.559045    8474.0  16369.0  0.247621   24843.0\n",
      "1  0  0  0   0.313883  0.555397   33299.0  65346.0  0.241514   98645.0\n",
      "         1   0.311354  0.551645   16804.0  32530.0  0.240290   49334.0\n",
      "      1  0   0.307111  0.559853   16665.0  33123.0  0.252742   49788.0\n",
      "         1   0.314443  0.553976    8364.0  16174.0  0.239533   24538.0\n",
      "   1  0  0   0.009242  0.021756    3138.0  46149.0  0.012514   49287.0\n",
      "         1   0.005545  0.023617    1623.0  23119.0  0.018072   24742.0\n",
      "      1  0   0.013548  0.022873    1550.0  22865.0  0.009325   24415.0\n",
      "         1   0.013750  0.021647     800.0  11503.0  0.007897   12303.0\n",
      "tau_estimé (OR moy. strat) = 0.167\n",
      "\n",
      "RESULTATS DES DIFFERENTS MODELES :\n",
      "tau_estimé (IPW reg.log.) = 0.167\n",
      "tau_estimé (IPW arb.dec.) = 0.167\n",
      "tau_estimé (OR reg. log.) = 0.177\n",
      "tau_estimé (OR arb. dec.) = 0.167\n"
     ]
    }
   ],
   "source": [
    "Nobs = 1000000 # nombre d'observations\n",
    "alpha_tau = 1 #effet du traitement\n",
    "alpha_eZ = [2,2,0,0] #effet des covariables sur le propensity score\n",
    "NX = np.size(alpha_eZ) # nombre de covariables\n",
    "alpha_eY = [-2,-2,0,0] #effet des covariables sur la variable d'intérêt\n",
    "alphaXCrossX_eZ = np.zeros((NX,NX)) #effet croisé des covariables sur le propensity score\n",
    "alphaXCrossX_eY = np.zeros((NX,NX)) #effet croisé des covariables sur la variable d'intérêt\n",
    "alphaXCrossX_eZ[0,1] = 0 #effet croisé des covariables sur le propensity score\n",
    "alphaXCrossX_eY[0,1] = -2 #effet croisé des covariables sur la variable d'intérêt\n",
    "alphaXCrossZ_eY = [0,0,0,0]\n",
    "df, tau_pf, tau_causal = f.genData(Nobs,alpha_tau,alpha_eZ,alpha_eY,alphaXCrossX_eZ,alphaXCrossX_eY,alphaXCrossZ_eY)\n",
    "print('VALEURS TAU SIMULATION :')\n",
    "print('tau_pf = E[Y,Z=1] - E[Y,Z=0] =', round(tau_pf,ndigits=3))   \n",
    "print('tau_causal = E[Y(1)] - E[Y(0)] =', round(tau_causal ,ndigits=3))\n",
    "print('')\n",
    "\n",
    "f.print_moy_strat(df)\n",
    "print('')\n",
    "\n",
    "f.print_res_sim(df)"
   ]
  },
  {
   "cell_type": "code",
   "execution_count": 36,
   "metadata": {},
   "outputs": [
    {
     "name": "stdout",
     "output_type": "stream",
     "text": [
      "\n",
      "INTERVALLE DE CONFIANCE IPW reg. log.\n",
      "0.100280868816185-0.17877136703926078\n",
      "INTERVALLE DE CONFIANCE IPW arb. dec.\n",
      "0.11166144402367567-0.18702671800948226\n",
      "INTERVALLE DE CONFIANCE OR reg. log.\n",
      "0.11932085681783983-0.19512520054576715\n",
      "INTERVALLE DE CONFIANCE OR arb. dec.\n",
      "0.1116614440236757-0.18702671800948234\n"
     ]
    }
   ],
   "source": [
    "lbLogY,ubLogY,lbArbY,ubArbY,lbLogE,ubLogE,lbArbE,ubArbE = f.calculBootstrap(df,100)\n",
    "print('')\n",
    "print('INTERVALLE DE CONFIANCE IPW reg. log.')\n",
    "print(str(lbLogE) + '-' + str(ubLogE))\n",
    "print('INTERVALLE DE CONFIANCE IPW arb. dec.')\n",
    "print(str(lbArbE) + '-' + str(ubArbE))\n",
    "print('INTERVALLE DE CONFIANCE OR reg. log.')\n",
    "print(str(lbLogY) + '-' + str(ubLogY))\n",
    "print('INTERVALLE DE CONFIANCE OR arb. dec.')\n",
    "print(str(lbArbY) + '-' + str(ubArbY))"
   ]
  },
  {
   "cell_type": "markdown",
   "metadata": {},
   "source": [
    "# Simulation 3 : 2 covariables avec termes croisés pour Z"
   ]
  },
  {
   "cell_type": "code",
   "execution_count": 44,
   "metadata": {},
   "outputs": [
    {
     "name": "stdout",
     "output_type": "stream",
     "text": [
      "VALEURS TAU SIMULATION :\n",
      "tau_pf = E[Y,Z=1] - E[Y,Z=0] = -0.043\n",
      "tau_causal = E[Y(1)] - E[Y(0)] = 0.177\n",
      "\n",
      "RESULTATS DE LA MOYENNE STRATIFIÉE :\n",
      "             E[Y|Z=0]  E[Y|Z=1]    N(Z=0)   N(Z=1)      Diff     Poids\n",
      "X1 X2 X3 X4                                                           \n",
      "0  0  0  0   0.730428  0.880611  148899.0  48991.0  0.150183  197890.0\n",
      "         1   0.733485  0.878650   74660.0  24145.0  0.145165   98805.0\n",
      "      1  0   0.730321  0.885209   74240.0  24366.0  0.154888   98606.0\n",
      "         1   0.732466  0.877878   37300.0  12422.0  0.145411   49722.0\n",
      "   1  0  0   0.265708  0.499180   28712.0  70147.0  0.233473   98859.0\n",
      "         1   0.272625  0.499374   14199.0  35148.0  0.226749   49347.0\n",
      "      1  0   0.267870  0.498272   14410.0  35017.0  0.230403   49427.0\n",
      "         1   0.268223  0.500085    7367.0  17611.0  0.231862   24978.0\n",
      "1  0  0  0   0.267397  0.500911   28568.0  69671.0  0.233514   98239.0\n",
      "         1   0.272062  0.497726   14346.0  35188.0  0.225665   49534.0\n",
      "      1  0   0.274788  0.500605   14473.0  34726.0  0.225817   49199.0\n",
      "         1   0.264036  0.500801    7071.0  17474.0  0.236765   24545.0\n",
      "   1  0  0   0.045104  0.120534   14411.0  34845.0  0.075429   49256.0\n",
      "         1   0.047269  0.120833    7214.0  17429.0  0.073564   24643.0\n",
      "      1  0   0.050417  0.120000    7200.0  17500.0  0.069583   24700.0\n",
      "         1   0.042941  0.118913    3563.0   8687.0  0.075972   12250.0\n",
      "tau_estimé (OR moy. strat) = 0.177\n",
      "\n",
      "RESULTATS DES DIFFERENTS MODELES :\n",
      "tau_estimé (IPW reg.log.) = 0.195\n",
      "tau_estimé (IPW arb.dec.) = 0.177\n",
      "tau_estimé (OR reg. log.) = 0.177\n",
      "tau_estimé (OR arb. dec.) = 0.177\n"
     ]
    }
   ],
   "source": [
    "Nobs = 1000000 # nombre d'observations\n",
    "alpha_tau = 1 #effet du traitement\n",
    "alpha_eZ = [2,2,0,0] #effet des covariables sur le propensity score\n",
    "NX = np.size(alpha_eZ) # nombre de covariables\n",
    "alpha_eY = [-2,-2,0,0] #effet des covariables sur la variable d'intérêt\n",
    "alphaXCrossX_eZ = np.zeros((NX,NX)) #effet croisé des covariables sur le propensity score\n",
    "alphaXCrossX_eY = np.zeros((NX,NX)) #effet croisé des covariables sur la variable d'intérêt\n",
    "alphaXCrossX_eZ[0,1] = -2 #effet croisé des covariables sur le propensity score\n",
    "alphaXCrossX_eY[0,1] = 0 #effet croisé des covariables sur la variable d'intérêt\n",
    "alphaXCrossZ_eY = [0,0,0,0]\n",
    "df, tau_pf, tau_causal = f.genData(Nobs,alpha_tau,alpha_eZ,alpha_eY,alphaXCrossX_eZ,alphaXCrossX_eY,alphaXCrossZ_eY)\n",
    "print('VALEURS TAU SIMULATION :')\n",
    "print('tau_pf = E[Y,Z=1] - E[Y,Z=0] =', round(tau_pf,ndigits=3))   \n",
    "print('tau_causal = E[Y(1)] - E[Y(0)] =', round(tau_causal ,ndigits=3))\n",
    "print('')\n",
    "\n",
    "f.print_moy_strat(df)\n",
    "print('')\n",
    "\n",
    "f.print_res_sim(df)"
   ]
  },
  {
   "cell_type": "code",
   "execution_count": 34,
   "metadata": {},
   "outputs": [
    {
     "name": "stdout",
     "output_type": "stream",
     "text": [
      "\n",
      "INTERVALLE DE CONFIANCE IPW reg. log.\n",
      "0.1642092568501761-0.2630176935667514\n",
      "INTERVALLE DE CONFIANCE IPW arb. dec.\n",
      "0.16016670924100865-0.2615537933594163\n",
      "INTERVALLE DE CONFIANCE OR reg. log.\n",
      "0.15306934288605378-0.24330256569859468\n",
      "INTERVALLE DE CONFIANCE OR arb. dec.\n",
      "0.1601667092410087-0.26155379335941636\n"
     ]
    }
   ],
   "source": [
    "lbLogY,ubLogY,lbArbY,ubArbY,lbLogE,ubLogE,lbArbE,ubArbE = f.calculBootstrap(df,100)\n",
    "print('')\n",
    "print('INTERVALLE DE CONFIANCE IPW reg. log.')\n",
    "print(str(lbLogE) + '-' + str(ubLogE))\n",
    "print('INTERVALLE DE CONFIANCE IPW arb. dec.')\n",
    "print(str(lbArbE) + '-' + str(ubArbE))\n",
    "print('INTERVALLE DE CONFIANCE OR reg. log.')\n",
    "print(str(lbLogY) + '-' + str(ubLogY))\n",
    "print('INTERVALLE DE CONFIANCE OR arb. dec.')\n",
    "print(str(lbArbY) + '-' + str(ubArbY))"
   ]
  },
  {
   "cell_type": "markdown",
   "metadata": {},
   "source": [
    "# GRAPHIQUE"
   ]
  },
  {
   "cell_type": "code",
   "execution_count": 48,
   "metadata": {},
   "outputs": [
    {
     "data": {
      "image/png": "[encoded data removed]",
      "text/plain": [
       "<Figure size 640x480 with 1 Axes>"
      ]
     },
     "metadata": {},
     "output_type": "display_data"
    }
   ],
   "source": [
    "import matplotlib.pyplot as plt\n",
    "\n",
    "# Données\n",
    "valeurs = [-0.117, 0.166, 0.167, 0.177, 0.167, 0.167, 0.167]\n",
    "labels = [\n",
    "    r'$\\hat{\\tau}_{PF}$',\n",
    "    r'$\\tau$',\n",
    "    r'$\\hat{\\tau}_{\\mathrm{OR-S}}$',\n",
    "    r'$\\hat{\\tau}_{\\mathrm{OR-LR}}$',\n",
    "    r'$\\hat{\\tau}_{\\mathrm{OR-DT}}$',\n",
    "    r'$\\hat{\\tau}_{\\mathrm{IPW-LR}}$',\n",
    "    r'$\\hat{\\tau}_{\\mathrm{IPW-DT}}$'\n",
    "]\n",
    "couleurs = ['red', 'green', 'blue', 'blue', 'blue', 'blue', 'blue']\n",
    "tau = 0.166\n",
    "\n",
    "# Tracé\n",
    "plt.bar(labels, valeurs, color=couleurs)\n",
    "plt.axhline(y=tau, color='black', linestyle='--', label=r'$\\tau = 0.177$')\n",
    "\n",
    "plt.ylabel(r\"Valeur de $\\tau$\", fontsize=12)\n",
    "plt.xticks(rotation=45)\n",
    "plt.legend()\n",
    "plt.tight_layout()\n",
    "plt.show()\n",
    "\n",
    "\n"
   ]
  },
  {
   "cell_type": "markdown",
   "metadata": {},
   "source": [
    "# ANNEXES"
   ]
  },
  {
   "cell_type": "markdown",
   "metadata": {},
   "source": [
    "# Simulation 4 : 2 covariables avec termes croisés pour Y et Z"
   ]
  },
  {
   "cell_type": "code",
   "execution_count": null,
   "metadata": {},
   "outputs": [
    {
     "name": "stdout",
     "output_type": "stream",
     "text": [
      "VALEURS TAU SIMULATION :\n",
      "tau_pf = E[Y,Z=1] - E[Y,Z=0] = 0.072\n",
      "tau_causal = E[Y(1)] - E[Y(0)] = 0.257\n",
      "\n",
      "RESULTATS DE LA MOYENNE STRATIFIÉE :\n",
      "             E[Y|Z=0]  E[Y|Z=1]    N(Z=0)   N(Z=1)      Diff     Poids\n",
      "X1 X2 X3 X4                                                           \n",
      "0  0  0  0   0.773022  0.903457  147975.0  48735.0  0.130435  196710.0\n",
      "         1   0.773703  0.899513   74875.0  24650.0  0.125810   99525.0\n",
      "      1  0   0.770498  0.901221   74082.0  24327.0  0.130723   98409.0\n",
      "         1   0.772389  0.902652   37195.0  12368.0  0.130263   49563.0\n",
      "   1  0  0   0.313570  0.554449   28571.0  69873.0  0.240879   98444.0\n",
      "         1   0.316479  0.556258   14576.0  34946.0  0.239779   49522.0\n",
      "      1  0   0.317532  0.553883   14619.0  34872.0  0.236351   49491.0\n",
      "         1   0.311868  0.551183    7314.0  17330.0  0.239315   24644.0\n",
      "1  0  0  0   0.313566  0.900951   28836.0  70218.0  0.587385   99054.0\n",
      "         1   0.316217  0.902562   14392.0  35325.0  0.586345   49717.0\n",
      "      1  0   0.308926  0.903056   14340.0  34814.0  0.594130   49154.0\n",
      "         1   0.317523  0.902382    7105.0  17466.0  0.584859   24571.0\n",
      "   1  0  0   0.008634  0.142413   14362.0  35032.0  0.133779   49394.0\n",
      "         1   0.007885  0.143775    7229.0  17590.0  0.135890   24819.0\n",
      "      1  0   0.008742  0.147206    7092.0  17343.0  0.138464   24435.0\n",
      "         1   0.007989  0.143642    3630.0   8918.0  0.135653   12548.0\n",
      "tau_estimé (OR moy. strat) = 0.257\n",
      "\n",
      "RESULTATS DES DIFFERENTS MODELES :\n",
      "tau_estimé (IPW reg.log.) = 0.3\n",
      "tau_estimé (IPW arb.dec.) = 0.257\n",
      "tau_estimé (OR reg. log.) = 0.274\n",
      "tau_estimé (OR arb. dec.) = 0.257\n"
     ]
    }
   ],
   "source": [
    "Nobs = 1000000 # nombre d'observations\n",
    "alpha_tau = 1 #effet du traitement\n",
    "alpha_eZ = [2,2,0,0] #effet des covariables sur le propensity score\n",
    "NX = np.size(alpha_eZ) # nombre de covariables\n",
    "alpha_eY = [-2,-2,0,0] #effet des covariables sur la variable d'intérêt\n",
    "alphaXCrossX_eZ = np.zeros((NX,NX)) #effet croisé des covariables sur le propensity score\n",
    "alphaXCrossX_eY = np.zeros((NX,NX)) #effet croisé des covariables sur la variable d'intérêt\n",
    "alphaXCrossX_eZ[0,1] = -2 #effet croisé des covariables sur le propensity score\n",
    "alphaXCrossX_eY[0,1] = -2 #effet croisé des covariables sur la variable d'intérêt\n",
    "alphaXCrossZ_eY = [2,0,0,0]\n",
    "df, tau_pf, tau_causal = f.genData(Nobs,alpha_tau,alpha_eZ,alpha_eY,alphaXCrossX_eZ,alphaXCrossX_eY,alphaXCrossZ_eY)\n",
    "print('VALEURS TAU SIMULATION :')\n",
    "print('tau_pf = E[Y,Z=1] - E[Y,Z=0] =', round(tau_pf,ndigits=3))   \n",
    "print('tau_causal = E[Y(1)] - E[Y(0)] =', round(tau_causal ,ndigits=3))\n",
    "print('')\n",
    "\n",
    "f.print_moy_strat(df)\n",
    "print('')\n",
    "\n",
    "f.print_res_sim(df)"
   ]
  },
  {
   "cell_type": "markdown",
   "metadata": {},
   "source": [
    "# Simulation 5 : 2 covariables, mais le modèle Y ne voit que la première"
   ]
  },
  {
   "cell_type": "code",
   "execution_count": null,
   "metadata": {},
   "outputs": [
    {
     "name": "stdout",
     "output_type": "stream",
     "text": [
      "VALEURS TAU SIMULATION :\n",
      "tau_pf = E[Y,Z=1] - E[Y,Z=0] = -0.095\n",
      "tau_causal = E[Y(1)] - E[Y(0)] = 0.177\n",
      "\n",
      "RESULTATS DE LA MOYENNE STRATIFIÉE :\n",
      "             E[Y|Z=0]  E[Y|Z=1]    N(Z=0)   N(Z=1)      Diff     Poids\n",
      "X1 X2 X3 X4                                                           \n",
      "0  0  0  0   0.731822  0.878919  157213.0  40890.0  0.147097  198103.0\n",
      "         1   0.732106  0.878279   78490.0  20621.0  0.146173   99111.0\n",
      "      1  0   0.731221  0.877924   78161.0  20520.0  0.146703   98681.0\n",
      "         1   0.731229  0.874499   38996.0  10223.0  0.143270   49219.0\n",
      "   1  0  0   0.266335  0.495471   33180.0  64698.0  0.229136   97878.0\n",
      "         1   0.268115  0.498586   16713.0  32885.0  0.230471   49598.0\n",
      "      1  0   0.266338  0.499358   16832.0  32712.0  0.233020   49544.0\n",
      "         1   0.269845  0.496926    8390.0  16268.0  0.227081   24658.0\n",
      "1  0  0  0   0.268171  0.498504   33680.0  65189.0  0.230333   98869.0\n",
      "         1   0.264133  0.501704   16628.0  32868.0  0.237571   49496.0\n",
      "      1  0   0.270783  0.497122   16456.0  32483.0  0.226339   48939.0\n",
      "         1   0.263719  0.509177    8346.0  16509.0  0.245458   24855.0\n",
      "   1  0  0   0.043333  0.120499    3300.0  46017.0  0.077166   49317.0\n",
      "         1   0.048659  0.121631    1603.0  23226.0  0.072972   24829.0\n",
      "      1  0   0.048309  0.117495    1656.0  22886.0  0.069186   24542.0\n",
      "         1   0.036432  0.123562     796.0  11565.0  0.087130   12361.0\n",
      "tau_estimé (OR moy. strat) = 0.176\n",
      "\n",
      "RESULTATS DES DIFFERENTS MODELES :\n",
      "tau_estimé (IPW reg.log.) = 0.177\n",
      "tau_estimé (IPW arb.dec.) = 0.176\n",
      "tau_estimé (OR reg. log.) = 0.023\n",
      "tau_estimé (OR arb. dec.) = 0.028\n"
     ]
    }
   ],
   "source": [
    "Nobs = 1000000 # nombre d'observations\n",
    "alpha_tau = 1 #effet du traitement\n",
    "alpha_eZ = [2,2,0,0] #effet des covariables sur le propensity score\n",
    "NX = np.size(alpha_eZ) # nombre de covariables\n",
    "alpha_eY = [-2,-2,0,0] #effet des covariables sur la variable d'intérêt\n",
    "alphaXCrossX_eZ = np.zeros((NX,NX)) #effet croisé des covariables sur le propensity score\n",
    "alphaXCrossX_eY = np.zeros((NX,NX)) #effet croisé des covariables sur la variable d'intérêt\n",
    "alphaXCrossZ_eY = [0,0,0,0]\n",
    "df, tau_pf, tau_causal = f.genData(Nobs,alpha_tau,alpha_eZ,alpha_eY,alphaXCrossX_eZ,alphaXCrossX_eY,alphaXCrossZ_eY)\n",
    "print('VALEURS TAU SIMULATION :')\n",
    "print('tau_pf = E[Y,Z=1] - E[Y,Z=0] =', round(tau_pf,ndigits=3))   \n",
    "print('tau_causal = E[Y(1)] - E[Y(0)] =', round(tau_causal ,ndigits=3))\n",
    "print('')\n",
    "\n",
    "f.print_moy_strat(df)\n",
    "print('')\n",
    "\n",
    "vars_to_includeE = None\n",
    "vars_to_includeY = ['X1']\n",
    "f.print_res_sim(df,vars_to_includeY,vars_to_includeE)"
   ]
  },
  {
   "cell_type": "markdown",
   "metadata": {},
   "source": [
    "# Simulation 5 : 2 covariables, mais le modèle Z ne voit que la première"
   ]
  },
  {
   "cell_type": "code",
   "execution_count": null,
   "metadata": {},
   "outputs": [
    {
     "name": "stdout",
     "output_type": "stream",
     "text": [
      "VALEURS TAU SIMULATION :\n",
      "tau_pf = E[Y,Z=1] - E[Y,Z=0] = -0.094\n",
      "tau_causal = E[Y(1)] - E[Y(0)] = 0.177\n",
      "\n",
      "RESULTATS DE LA MOYENNE STRATIFIÉE :\n",
      "             E[Y|Z=0]  E[Y|Z=1]    N(Z=0)   N(Z=1)      Diff     Poids\n",
      "X1 X2 X3 X4                                                           \n",
      "0  0  0  0   0.729654  0.881830  156322.0  40975.0  0.152176  197297.0\n",
      "         1   0.730313  0.879172   77868.0  20583.0  0.148859   98451.0\n",
      "      1  0   0.731653  0.880684   78298.0  20584.0  0.149031   98882.0\n",
      "         1   0.732122  0.885618   38790.0  10430.0  0.153497   49220.0\n",
      "   1  0  0   0.268146  0.500852   33478.0  65137.0  0.232706   98615.0\n",
      "         1   0.278142  0.501081   16772.0  32382.0  0.222939   49154.0\n",
      "      1  0   0.265487  0.496117   16901.0  32966.0  0.230630   49867.0\n",
      "         1   0.273361  0.502313    8326.0  16215.0  0.228952   24541.0\n",
      "1  0  0  0   0.271882  0.499017   33566.0  65641.0  0.227135   99207.0\n",
      "         1   0.265817  0.498576   16786.0  32647.0  0.232759   49433.0\n",
      "      1  0   0.269550  0.497541   16624.0  32942.0  0.227991   49566.0\n",
      "         1   0.268738  0.498111    8432.0  16145.0  0.229373   24577.0\n",
      "   1  0  0   0.053566  0.117348    3155.0  46460.0  0.063782   49615.0\n",
      "         1   0.055000  0.120324    1600.0  22855.0  0.065324   24455.0\n",
      "      1  0   0.046089  0.121160    1649.0  23308.0  0.075072   24957.0\n",
      "         1   0.044678  0.117699     761.0  11402.0  0.073021   12163.0\n",
      "tau_estimé (OR moy. strat) = 0.176\n",
      "\n",
      "RESULTATS DES DIFFERENTS MODELES :\n",
      "tau_estimé (IPW reg.log.) = 0.029\n",
      "tau_estimé (IPW arb.dec.) = 0.029\n",
      "tau_estimé (OR reg. log.) = 0.177\n",
      "tau_estimé (OR arb. dec.) = 0.176\n"
     ]
    }
   ],
   "source": [
    "Nobs = 1000000 # nombre d'observations\n",
    "alpha_tau = 1 #effet du traitement\n",
    "alpha_eZ = [2,2,0,0] #effet des covariables sur le propensity score\n",
    "NX = np.size(alpha_eZ) # nombre de covariables\n",
    "alpha_eY = [-2,-2,0,0] #effet des covariables sur la variable d'intérêt\n",
    "alphaXCrossX_eZ = np.zeros((NX,NX)) #effet croisé des covariables sur le propensity score\n",
    "alphaXCrossX_eY = np.zeros((NX,NX)) #effet croisé des covariables sur la variable d'intérêt\n",
    "alphaXCrossZ_eY = [0,0,0,0]\n",
    "df, tau_pf, tau_causal = f.genData(Nobs,alpha_tau,alpha_eZ,alpha_eY,alphaXCrossX_eZ,alphaXCrossX_eY,alphaXCrossZ_eY)\n",
    "print('VALEURS TAU SIMULATION :')\n",
    "print('tau_pf = E[Y,Z=1] - E[Y,Z=0] =', round(tau_pf,ndigits=3))   \n",
    "print('tau_causal = E[Y(1)] - E[Y(0)] =', round(tau_causal ,ndigits=3))\n",
    "print('')\n",
    "\n",
    "f.print_moy_strat(df)\n",
    "print('')\n",
    "\n",
    "vars_to_includeE = ['X1']\n",
    "vars_to_includeY = None\n",
    "f.print_res_sim(df,vars_to_includeY,vars_to_includeE)"
   ]
  }
 ],
 "metadata": {
  "kernelspec": {
   "display_name": "base",
   "language": "python",
   "name": "python3"
  },
  "language_info": {
   "codemirror_mode": {
    "name": "ipython",
    "version": 3
   },
   "file_extension": ".py",
   "mimetype": "text/x-python",
   "name": "python",
   "nbconvert_exporter": "python",
   "pygments_lexer": "ipython3",
   "version": "3.12.2"
  }
 },
 "nbformat": 4,
 "nbformat_minor": 2
}
