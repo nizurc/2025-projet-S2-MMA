{
 "cells": [
  {
   "cell_type": "code",
   "execution_count": 22,
   "metadata": {},
   "outputs": [],
   "source": [
    "# --------------------------------------------\n",
    "# IMPORT LIBRAIRIES\n",
    "# --------------------------------------------\n",
    "import numpy as np\n",
    "import matplotlib.pyplot as plt\n",
    "import pandas as pd\n",
    "pd.set_option('display.max_rows', None)"
   ]
  },
  {
   "cell_type": "markdown",
   "metadata": {},
   "source": [
    "# 1 - Génération des données"
   ]
  },
  {
   "cell_type": "code",
   "execution_count": null,
   "metadata": {},
   "outputs": [],
   "source": [
    "# --------------------------------------------\n",
    "# PARAMETRES DE SIMULATION\n",
    "# --------------------------------------------\n",
    "Nobs = 10000 # nombre d'observations\n",
    "NX = 6 # nombre de covariables\n",
    "PX = 1/2 # probabilité qu'une covariable vaille 1\n",
    "alpha_tau = 1 #effet du traitement\n",
    "\n",
    "alpha_eZ = [2,2,0,0,0,0] #effet des covariables sur le propensity score\n",
    "alpha0_eZ = -np.sum(alpha_eZ)*PX #intercept du propensity score\n",
    "alpha_eY = [-2,-2,0,0,0,0] #effet des covariables sur la variable d'intérêt\n",
    "alpha0_eY = -np.sum(alpha_eY)*PX #intercept de la variable d'intérêt\n",
    "\n",
    "# --------------------------------------------\n",
    "# GENERATION DES COVARIABLES X\n",
    "# --------------------------------------------\n",
    "X = np.random.binomial(1,PX,(Nobs,NX))\n",
    "\n",
    "# --------------------------------------------\n",
    "# GENERATION DE Z\n",
    "# --------------------------------------------\n",
    "def sigmoid(x): # Définition de la fonction sigmoïde\n",
    "    return 1 / (1 + np.exp(-x))\n",
    "\n",
    "eZ = sigmoid(X.dot(alpha_eZ) + alpha0_eZ) # Génération du propensity score\n",
    "Z = np.random.binomial(1,eZ)\n",
    "\n",
    "# --------------------------------------------\n",
    "# GENERATION DE Y\n",
    "# --------------------------------------------\n",
    "eY = sigmoid(X.dot(alpha_eY) + alpha_tau*Z + alpha0_eY)\n",
    "Y = np.random.binomial(1,eY)\n",
    "\n",
    "# --------------------------------------------\n",
    "# Calcul de E(Y(1)=1) et E(Y(0)=1)\n",
    "# --------------------------------------------\n",
    "Z1 = np.ones(Nobs)\n",
    "Z0 = np.zeros(Nobs)\n",
    "\n",
    "EY1 = sigmoid(X.dot(alpha_eY) + alpha_tau*Z1 + alpha0_eY)\n",
    "EY0 = sigmoid(X.dot(alpha_eY) + alpha_tau*Z0 + alpha0_eY)\n",
    "\n",
    "# --------------------------------------------\n",
    "# MISE EN FORME ET EXPORT DES DONNEES\n",
    "# --------------------------------------------\n",
    "df = pd.DataFrame(X, columns=[f\"X{i+1}\" for i in range(NX)])  # noms des colonnes X1, X2, ...\n",
    "df['Y'] = Y\n",
    "df['Z'] = Z\n",
    "df['EY1'] = EY1\n",
    "df['EY0'] = EY0\n",
    "\n",
    "# Réorganiser les colonnes pour avoir Y, Z, puis les X\n",
    "df = df[['Y', 'EY1', 'EY0', 'Z'] + [f\"X{i+1}\" for i in range(NX)]]"
   ]
  },
  {
   "cell_type": "markdown",
   "metadata": {},
   "source": [
    "# 2 - Analyse des données"
   ]
  },
  {
   "cell_type": "code",
   "execution_count": 24,
   "metadata": {},
   "outputs": [
    {
     "name": "stdout",
     "output_type": "stream",
     "text": [
      "E[Y,Z=1] - E[Y,Z=0] = -0.085\n",
      "tau = E[Y(1)] - E[Y(0)] = 0.171\n"
     ]
    }
   ],
   "source": [
    "# Calculer la moyenne de Y pour chaque valeur de Z\n",
    "mean_Y_by_Z = df.groupby('Z')['Y'].mean()\n",
    "\n",
    "# Afficher les résultats\n",
    "print('E[Y,Z=1] - E[Y,Z=0] =', round(mean_Y_by_Z[1]-mean_Y_by_Z[0],ndigits=3))   \n",
    "tau = df['EY1'].mean()-df['EY0'].mean()\n",
    "print('tau = E[Y(1)] - E[Y(0)] =', round(tau ,ndigits=3))"
   ]
  },
  {
   "cell_type": "markdown",
   "metadata": {},
   "source": [
    "# 3 - Modélisation"
   ]
  },
  {
   "cell_type": "code",
   "execution_count": 25,
   "metadata": {},
   "outputs": [
    {
     "name": "stdout",
     "output_type": "stream",
     "text": [
      "       E[Y|Z=0]  E[Y|Z=1]  N(Z=0)  N(Z=1)\n",
      "X1 X2                                    \n",
      "0  0   0.873596  0.950166  2136.0   301.0\n",
      "   1   0.477918  0.719298  1268.0  1254.0\n",
      "1  0   0.505645  0.732245  1240.0  1225.0\n",
      "   1   0.102484  0.293256   322.0  2254.0\n",
      "\n",
      "       E[Y|Z=0]  E[Y|Z=1]  N(Z=0)  N(Z=1)      Diff   Poids\n",
      "X1 X2                                                      \n",
      "0  0   0.873596  0.950166  2136.0   301.0  0.076571  2437.0\n",
      "   1   0.477918  0.719298  1268.0  1254.0  0.241380  2522.0\n",
      "1  0   0.505645  0.732245  1240.0  1225.0  0.226600  2465.0\n",
      "   1   0.102484  0.293256   322.0  2254.0  0.190772  2576.0\n",
      "\n",
      "Moyenne pondérée de la différence : 0.185\n"
     ]
    }
   ],
   "source": [
    "# --------------------------------------------\n",
    "# Modèle 1 : moyenne par strate de X\n",
    "# --------------------------------------------\n",
    "\n",
    "# Regrouper par (X1, X2, Z) et calculer la moyenne de Y et l'effectif\n",
    "grouped = df.groupby(['X1', 'X2', 'Z']).agg(\n",
    "    mean_Y=('Y', 'mean'),\n",
    "    count=('Y', 'count')\n",
    ").reset_index()\n",
    "\n",
    "# Réorganiser les résultats pour avoir les colonnes séparées pour Z=0 et Z=1\n",
    "pivoted = grouped.pivot(index=['X1', 'X2'], columns='Z', values=['mean_Y', 'count'])\n",
    "\n",
    "# Renommer les colonnes pour plus de clarté\n",
    "pivoted.columns = ['E[Y|Z=0]', 'E[Y|Z=1]', 'N(Z=0)', 'N(Z=1)']\n",
    "pivoted = pivoted.fillna(0)  # Remplir les valeurs NaN si une combinaison (X1, X2, Z) est absente\n",
    "\n",
    "# Afficher le résultat final\n",
    "print(pivoted)\n",
    "print('')\n",
    "\n",
    "# Calcul de la différence E[Y | Z=1] - E[Y | Z=0]\n",
    "pivoted['Diff'] = pivoted['E[Y|Z=1]'] - pivoted['E[Y|Z=0]']\n",
    "\n",
    "# Calcul du poids total N(Z=0) + N(Z=1)\n",
    "pivoted['Poids'] = pivoted['N(Z=0)'] + pivoted['N(Z=1)']\n",
    "\n",
    "# Calcul de la moyenne pondérée\n",
    "moyenne_ponderee = (pivoted['Diff'] * pivoted['Poids']).sum() / pivoted['Poids'].sum()\n",
    "\n",
    "# Affichage des résultats\n",
    "print(pivoted)\n",
    "print(\"\\nMoyenne pondérée de la différence :\", round(moyenne_ponderee, 3))"
   ]
  }
 ],
 "metadata": {
  "kernelspec": {
   "display_name": "base",
   "language": "python",
   "name": "python3"
  },
  "language_info": {
   "codemirror_mode": {
    "name": "ipython",
    "version": 3
   },
   "file_extension": ".py",
   "mimetype": "text/x-python",
   "name": "python",
   "nbconvert_exporter": "python",
   "pygments_lexer": "ipython3",
   "version": "3.12.2"
  }
 },
 "nbformat": 4,
 "nbformat_minor": 2
}
