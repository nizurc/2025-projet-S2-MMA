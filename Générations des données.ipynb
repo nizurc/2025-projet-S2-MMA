{
 "cells": [
  {
   "cell_type": "code",
   "execution_count": 148,
   "metadata": {},
   "outputs": [],
   "source": [
    "# --------------------------------------------\n",
    "# IMPORT LIBRAIRIES\n",
    "# --------------------------------------------\n",
    "import numpy as np\n",
    "import matplotlib.pyplot as plt\n",
    "import pandas as pd\n",
    "\n",
    "from sklearn.model_selection import train_test_split\n",
    "from sklearn.linear_model import LogisticRegression\n",
    "from sklearn.tree import DecisionTreeClassifier, plot_tree\n",
    "from sklearn.metrics import accuracy_score, classification_report\n",
    "\n",
    "pd.set_option('display.max_rows', None)\n",
    "\n",
    "def sigmoid(x): # Définition de la fonction sigmoïde\n",
    "    return 1 / (1 + np.exp(-x))"
   ]
  },
  {
   "cell_type": "markdown",
   "metadata": {},
   "source": [
    "# 1 - Génération des données"
   ]
  },
  {
   "cell_type": "markdown",
   "metadata": {},
   "source": [
    "## Fonction"
   ]
  },
  {
   "cell_type": "code",
   "execution_count": null,
   "metadata": {},
   "outputs": [],
   "source": [
    "def genData(Nobs,alpha_tau,alpha_eZ,alpha_eY):\n",
    "    PX = 1/2 # probabilité qu'une covariable vaille 1\n",
    "    NX = np.size(alpha_eZ) # nombre de covariables\n",
    "    alpha0_eZ = -np.sum(alpha_eZ)*PX #intercept du propensity score\n",
    "    alpha0_eY = -(np.sum(alpha_eY) + alpha_tau)*PX #intercept de la variable d'intérêt\n",
    "\n",
    "    # GENERATION DES COVARIABLES X\n",
    "    X = np.random.binomial(1,PX,(Nobs,NX))\n",
    "\n",
    "    # GENERATION DE Z\n",
    "    eZ = sigmoid(X.dot(alpha_eZ) + alpha0_eZ) # Génération du propensity score\n",
    "    Z = np.random.binomial(1,eZ)\n",
    "\n",
    "    # GENERATION DE Y\n",
    "    eY = sigmoid(X.dot(alpha_eY) + alpha_tau*Z + alpha0_eY)\n",
    "    Y = np.random.binomial(1,eY)\n",
    "\n",
    "    # Calcul de E(Y(1)) et E(Y(0))\n",
    "    Z1 = np.ones(Nobs)\n",
    "    Z0 = np.zeros(Nobs)\n",
    "\n",
    "    EY1 = sigmoid(X.dot(alpha_eY) + alpha_tau*Z1 + alpha0_eY)\n",
    "    EY0 = sigmoid(X.dot(alpha_eY) + alpha_tau*Z0 + alpha0_eY)\n",
    "\n",
    "    # MISE EN FORME DES DONNEES\n",
    "    df = pd.DataFrame(X, columns=[f\"X{i+1}\" for i in range(NX)])  # noms des colonnes X1, X2, ...\n",
    "    df['Y'] = Y\n",
    "    df['Z'] = Z\n",
    "    df['EY1'] = EY1\n",
    "    df['EY0'] = EY0\n",
    "\n",
    "    # Réorganiser les colonnes pour avoir Y, Z, puis les X\n",
    "    df = df[['Y', 'EY1', 'EY0', 'Z'] + [f\"X{i+1}\" for i in range(NX)]]\n",
    "\n",
    "    # Calculer la moyenne de Y pour chaque valeur de Z\n",
    "    mean_Y_by_Z = df.groupby('Z')['Y'].mean()\n",
    "\n",
    "    # Afficher les résultats\n",
    "    tau_pf = mean_Y_by_Z[1]-mean_Y_by_Z[0]  \n",
    "    tau_causal = df['EY1'].mean()-df['EY0'].mean()\n",
    "    return df, tau_pf, tau_causal"
   ]
  },
  {
   "cell_type": "markdown",
   "metadata": {},
   "source": [
    "# 2 - Génération des données"
   ]
  },
  {
   "cell_type": "code",
   "execution_count": null,
   "metadata": {},
   "outputs": [
    {
     "name": "stdout",
     "output_type": "stream",
     "text": [
      "tau_pf = E[Y,Z=1] - E[Y,Z=0] = -0.232\n",
      "tau_causal = E[Y(1)] - E[Y(0)] = 0.151\n"
     ]
    }
   ],
   "source": [
    "Nobs = 1000000 # nombre d'observations\n",
    "alpha_tau = 1 #effet du traitement\n",
    "alpha_eZ = [3,1] #effet des covariables sur le propensity score\n",
    "alpha_eY = [-3,-1] #effet des covariables sur la variable d'intérêt\n",
    "df, tau_pf, tau_causal = genData(Nobs,alpha_tau,alpha_eZ,alpha_eY)\n",
    "print('tau_pf = E[Y,Z=1] - E[Y,Z=0] =', round(tau_pf,ndigits=3))   \n",
    "print('tau_causal = E[Y(1)] - E[Y(0)] =', round(tau_causal ,ndigits=3))"
   ]
  },
  {
   "cell_type": "markdown",
   "metadata": {},
   "source": [
    "# 3 - Modélisation"
   ]
  },
  {
   "cell_type": "markdown",
   "metadata": {},
   "source": [
    "## Outcome regression : moyenne par strate"
   ]
  },
  {
   "cell_type": "code",
   "execution_count": 174,
   "metadata": {},
   "outputs": [
    {
     "name": "stdout",
     "output_type": "stream",
     "text": [
      "       E[Y|Z=0]  E[Y|Z=1]    N(Z=0)    N(Z=1)      Diff     Poids\n",
      "X1 X2                                                            \n",
      "0  0   0.817835  0.923287  220712.0   29669.0  0.105452  250381.0\n",
      "   1   0.621834  0.820347  182986.0   67124.0  0.198513  250110.0\n",
      "1  0   0.183123  0.380676   67490.0  182780.0  0.197553  250270.0\n",
      "   1   0.075899  0.182121   29671.0  219568.0  0.106222  249239.0\n",
      "\n",
      "tau_estimé = 0.152\n"
     ]
    }
   ],
   "source": [
    "# Regrouper par (X1, X2, Z) et calculer la moyenne de Y et l'effectif\n",
    "grouped = df.groupby(['X1', 'X2', 'Z']).agg(\n",
    "    mean_Y=('Y', 'mean'),\n",
    "    count=('Y', 'count')\n",
    ").reset_index()\n",
    "\n",
    "# Réorganiser les résultats pour avoir les colonnes séparées pour Z=0 et Z=1\n",
    "pivoted = grouped.pivot(index=['X1', 'X2'], columns='Z', values=['mean_Y', 'count'])\n",
    "\n",
    "# Renommer les colonnes pour plus de clarté\n",
    "pivoted.columns = ['E[Y|Z=0]', 'E[Y|Z=1]', 'N(Z=0)', 'N(Z=1)']\n",
    "pivoted = pivoted.fillna(0)  # Remplir les valeurs NaN si une combinaison (X1, X2, Z) est absente\n",
    "\n",
    "# Calcul de la différence E[Y | Z=1] - E[Y | Z=0]\n",
    "pivoted['Diff'] = pivoted['E[Y|Z=1]'] - pivoted['E[Y|Z=0]']\n",
    "\n",
    "# Calcul du poids total N(Z=0) + N(Z=1)\n",
    "pivoted['Poids'] = pivoted['N(Z=0)'] + pivoted['N(Z=1)']\n",
    "\n",
    "# Calcul de la moyenne pondérée\n",
    "tau_est1 = (pivoted['Diff'] * pivoted['Poids']).sum() / pivoted['Poids'].sum()\n",
    "\n",
    "# Affichage des résultats\n",
    "print(pivoted)\n",
    "print(\"\\ntau_estimé =\", round(tau_est1, 3))"
   ]
  },
  {
   "cell_type": "markdown",
   "metadata": {},
   "source": [
    "## Outcome regression : régression logistique"
   ]
  },
  {
   "cell_type": "code",
   "execution_count": 167,
   "metadata": {},
   "outputs": [],
   "source": [
    "def regLogY(df):\n",
    "    # Séparer les variables explicatives (X) et la cible (Y)\n",
    "    X = df.drop(columns=['Y'])\n",
    "    Y = df['Y']\n",
    "\n",
    "    # Initialiser et entraîner le modèle\n",
    "    model = LogisticRegression()\n",
    "    model.fit(X, Y)\n",
    "\n",
    "    X1 = X.copy()\n",
    "    X1['Z'] = 1  # Mettre uniquement des 1 dans la colonne Z\n",
    "\n",
    "    X0 = X.copy()\n",
    "    X0['Z'] = 0  # Mettre uniquement des 0 dans la colonne Z\n",
    "\n",
    "    # Prédictions\n",
    "    Y1_pred = model.predict_proba(X1)[:,1]\n",
    "    Y0_pred = model.predict_proba(X0)[:,1]\n",
    "\n",
    "    tau_est = Y1_pred.mean()-Y0_pred.mean()\n",
    "    return tau_est\n",
    "\n"
   ]
  },
  {
   "cell_type": "markdown",
   "metadata": {},
   "source": [
    "## Outcome regression : arbre de décision"
   ]
  },
  {
   "cell_type": "code",
   "execution_count": 153,
   "metadata": {},
   "outputs": [],
   "source": [
    "def regArbY(df):\n",
    "    # Séparer les variables explicatives (X) et la cible (Y)\n",
    "    X = df.drop(columns=['Y'])\n",
    "    Y = df['Y']\n",
    "\n",
    "    # Initialiser et entraîner le modèle\n",
    "    model = DecisionTreeClassifier(max_depth=3, random_state=0)\n",
    "    model.fit(X, Y)\n",
    "\n",
    "    X1 = X.copy()\n",
    "    X1['Z'] = 1  # Mettre uniquement des 1 dans la colonne Z\n",
    "\n",
    "    X0 = X.copy()\n",
    "    X0['Z'] = 0  # Mettre uniquement des 0 dans la colonne Z\n",
    "\n",
    "    # Prédictions\n",
    "    Y1_pred = model.predict_proba(X1)[:,1]\n",
    "    Y0_pred = model.predict_proba(X0)[:,1]\n",
    "\n",
    "    tau_est = Y1_pred.mean()-Y0_pred.mean()\n",
    "    return tau_est"
   ]
  },
  {
   "cell_type": "markdown",
   "metadata": {},
   "source": [
    "## IPW : régression logistique (Hajek)"
   ]
  },
  {
   "cell_type": "code",
   "execution_count": 154,
   "metadata": {},
   "outputs": [],
   "source": [
    "def regLogE(df):\n",
    "    # Séparer les variables explicatives (X) et la cible (Y)\n",
    "    X = df.drop(columns=['Y','Z'])\n",
    "    Z = df['Z']\n",
    "    Y = df['Y']\n",
    "    \n",
    "    # Initialiser et entraîner le modèle\n",
    "    model = LogisticRegression()\n",
    "    model.fit(X, Z)\n",
    "\n",
    "    # Prédictions\n",
    "    e_pred = model.predict_proba(X)[:,1]\n",
    "\n",
    "    tau_est =  np.sum(Z * Y / e_pred) / np.sum(Z / e_pred) - np.sum((1-Z) * Y / (1-e_pred)) / np.sum((1-Z) / (1-e_pred))\n",
    "    return tau_est, e_pred"
   ]
  },
  {
   "cell_type": "markdown",
   "metadata": {},
   "source": [
    "# 4 - Simulation"
   ]
  },
  {
   "cell_type": "code",
   "execution_count": 175,
   "metadata": {},
   "outputs": [
    {
     "name": "stdout",
     "output_type": "stream",
     "text": [
      "tau_pf = E[Y,Z=1] - E[Y,Z=0] = -0.232\n",
      "tau_causal = E[Y(1)] - E[Y(0)] = 0.151\n",
      "tau_estimé (OR reg. log.) = 0.153\n",
      "tau_estimé (OR arb. dec.) = 0.152\n",
      "tau_estimé (IPW reg.log.) = 0.152\n"
     ]
    },
    {
     "data": {
      "image/png": "[encoded data removed]",
      "text/plain": [
       "<Figure size 640x480 with 1 Axes>"
      ]
     },
     "metadata": {},
     "output_type": "display_data"
    }
   ],
   "source": [
    "print('tau_pf = E[Y,Z=1] - E[Y,Z=0] =', round(tau_pf,ndigits=3))   \n",
    "print('tau_causal = E[Y(1)] - E[Y(0)] =', round(tau_causal ,ndigits=3))\n",
    "tau_est2 = regLogY(df)\n",
    "tau_est3 = regArbY(df)\n",
    "tau_est4, e_pred = regLogE(df)\n",
    "print(\"tau_estimé (OR reg. log.) =\", round(tau_est2, 3))\n",
    "print(\"tau_estimé (OR arb. dec.) =\", round(tau_est3, 3))\n",
    "print(\"tau_estimé (IPW reg.log.) =\", round(tau_est4, 3))\n",
    "\n",
    "# Tracer l'histogramme propensity score\n",
    "plt.hist(e_pred, bins=10, edgecolor='black', range=(0, 1))  # 'bins' définit le nombre de bacs dans l'histogramme\n",
    "\n",
    "# Ajouter des labels et un titre\n",
    "plt.xlabel('Valeurs')\n",
    "plt.ylabel('Fréquence')\n",
    "plt.title('Répartition des valeurs du propensity score prédit')\n",
    "\n",
    "# Afficher l'histogramme\n",
    "plt.show()"
   ]
  }
 ],
 "metadata": {
  "kernelspec": {
   "display_name": "base",
   "language": "python",
   "name": "python3"
  },
  "language_info": {
   "codemirror_mode": {
    "name": "ipython",
    "version": 3
   },
   "file_extension": ".py",
   "mimetype": "text/x-python",
   "name": "python",
   "nbconvert_exporter": "python",
   "pygments_lexer": "ipython3",
   "version": "3.12.2"
  }
 },
 "nbformat": 4,
 "nbformat_minor": 2
}
