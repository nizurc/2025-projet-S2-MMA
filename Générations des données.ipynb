{
 "cells": [
  {
   "cell_type": "code",
   "execution_count": 256,
   "metadata": {},
   "outputs": [],
   "source": [
    "# --------------------------------------------\n",
    "# IMPORT LIBRARIES\n",
    "# --------------------------------------------\n",
    "import numpy as np\n",
    "import matplotlib.pyplot as plt\n",
    "import pandas as pd\n",
    "pd.set_option('display.max_rows', None)"
   ]
  },
  {
   "cell_type": "code",
   "execution_count": 257,
   "metadata": {},
   "outputs": [],
   "source": [
    "# --------------------------------------------\n",
    "# PARAMETRES DE SIMULATION\n",
    "# --------------------------------------------\n",
    "Nobs = 10000 # nombre d'observations\n",
    "NX = 6 # nombre de covariables\n",
    "PX = 1/2 # probabilité qu'une covariable vaille 1\n",
    "alpha_tau = 0.5 #effet du traitement\n",
    "\n",
    "alpha_eZ = [1,1,-1,0,0,0] #effet des covariables sur le propensity score\n",
    "alpha0_eZ = -np.sum(alpha_eZ)*PX #intercept du propensity score\n",
    "alpha_eY = [-1,-1,1,0,0,0] #effet des covariables sur la variable d'intérêt\n",
    "alpha0_eY = -np.sum(alpha_eY)*PX #intercept de la variable d'intérêt\n",
    "\n",
    "# --------------------------------------------\n",
    "# GENERATION DES COVARIABLES X\n",
    "# --------------------------------------------\n",
    "X = np.random.binomial(1,PX,(Nobs,NX))\n",
    "\n",
    "# --------------------------------------------\n",
    "# GENERATION DE Z\n",
    "# --------------------------------------------\n",
    "def sigmoid(x): # Définition de la fonction sigmoïde\n",
    "    return 1 / (1 + np.exp(-x))\n",
    "\n",
    "eZ = sigmoid(X.dot(alpha_eZ) + alpha0_eZ) # Génération du propensity score\n",
    "Z = np.random.binomial(1,eZ)\n",
    "\n",
    "# --------------------------------------------\n",
    "# GENERATION DE Y\n",
    "# --------------------------------------------\n",
    "eY = sigmoid(X.dot(alpha_eY) + alpha_tau*Z + alpha0_eY)\n",
    "Y = np.random.binomial(1,eY)\n",
    "\n",
    "# --------------------------------------------\n",
    "# Calcul de P(Y(1)=1) et P(Y(0)=1)\n",
    "# --------------------------------------------\n",
    "Z1 = np.ones(Nobs)\n",
    "Z0 = np.zeros(Nobs)\n",
    "\n",
    "EY1 = sigmoid(X.dot(alpha_eY) + alpha_tau*Z1 + alpha0_eY)\n",
    "EY0 = sigmoid(X.dot(alpha_eY) + alpha_tau*Z0 + alpha0_eY)\n",
    "\n",
    "# --------------------------------------------\n",
    "# MISE EN FORME ET EXPORT DES DONNEES\n",
    "# --------------------------------------------\n",
    "df = pd.DataFrame(X, columns=[f\"X{i+1}\" for i in range(NX)])  # noms des colonnes X1, X2, ...\n",
    "df['Y'] = Y\n",
    "df['Z'] = Z\n",
    "df['EY1'] = EY1\n",
    "df['EY0'] = EY0\n",
    "\n",
    "# Réorganiser les colonnes pour avoir Y, Z, puis les X\n",
    "df = df[['Y', 'EY1', 'EY0', 'Z'] + [f\"X{i+1}\" for i in range(NX)]]\n",
    "\n",
    "# Exporter le DataFrame au format CSV\n",
    "#df.to_csv(\"data.csv\", index=False)"
   ]
  },
  {
   "cell_type": "code",
   "execution_count": 258,
   "metadata": {},
   "outputs": [
    {
     "name": "stdout",
     "output_type": "stream",
     "text": [
      "E[Y,Z=1] - E[Y,Z=0] = -0.049\n",
      "E[Y(1)] - E[Y(0)] = 0.105\n"
     ]
    }
   ],
   "source": [
    "# --------------------------------------------\n",
    "# ANALYSE DES DONNEES\n",
    "# --------------------------------------------\n",
    "# Calculer la moyenne de Y pour chaque valeur de Z\n",
    "mean_Y_by_Z = df.groupby('Z')['Y'].mean()\n",
    "\n",
    "# Afficher les résultats\n",
    "print('E[Y,Z=1] - E[Y,Z=0] =', round(mean_Y_by_Z[1]-mean_Y_by_Z[0],ndigits=3))   \n",
    "print('E[Y(1)] - E[Y(0)] =', round(df['EY1'].mean()-df['EY0'].mean(),ndigits=3))\n",
    "\n",
    "# Calculer la moyenne de Y pour chaque combinaison de Z et X1\n",
    "#mean_Y_by_Z_X1_X2_X3 = df.groupby(['Z', 'X1', 'X2', 'X3'])['Y'].mean()\n",
    "\n",
    "# Afficher les résultats\n",
    "#print(mean_Y_by_Z_X1_X2_X3)"
   ]
  }
 ],
 "metadata": {
  "kernelspec": {
   "display_name": "base",
   "language": "python",
   "name": "python3"
  },
  "language_info": {
   "codemirror_mode": {
    "name": "ipython",
    "version": 3
   },
   "file_extension": ".py",
   "mimetype": "text/x-python",
   "name": "python",
   "nbconvert_exporter": "python",
   "pygments_lexer": "ipython3",
   "version": "3.12.2"
  }
 },
 "nbformat": 4,
 "nbformat_minor": 2
}
