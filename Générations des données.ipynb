{
 "cells": [
  {
   "cell_type": "code",
   "execution_count": 220,
   "metadata": {},
   "outputs": [],
   "source": [
    "# --------------------------------------------\n",
    "# IMPORT LIBRAIRIES\n",
    "# --------------------------------------------\n",
    "import numpy as np\n",
    "import matplotlib.pyplot as plt\n",
    "import pandas as pd\n",
    "import importlib\n",
    "\n",
    "import func_causalite as f\n",
    "importlib.reload(f)\n",
    "\n",
    "pd.set_option('display.max_rows', None)"
   ]
  },
  {
   "cell_type": "markdown",
   "metadata": {},
   "source": [
    "# Génération des données"
   ]
  },
  {
   "cell_type": "code",
   "execution_count": 221,
   "metadata": {},
   "outputs": [
    {
     "name": "stdout",
     "output_type": "stream",
     "text": [
      "tau_pf = E[Y,Z=1] - E[Y,Z=0] = -0.07\n",
      "tau_causal = E[Y(1)] - E[Y(0)] = 0.291\n"
     ]
    }
   ],
   "source": [
    "Nobs = 10000 # nombre d'observations\n",
    "alpha_tau = 2 #effet du traitement\n",
    "alpha_eZ = [2,2,1,-1] #effet des covariables sur le propensity score\n",
    "NZ = np.size(alpha_eZ) # nombre de covariables\n",
    "alpha_eY = [-3,-2,1,-1] #effet des covariables sur la variable d'intérêt\n",
    "NY = np.size(alpha_eY) # nombre de covariables\n",
    "alphaCross_eZ = np.zeros((NZ,NZ)) #effet croisé des covariables sur le propensity score\n",
    "alphaCross_eY = np.zeros((NY,NY)) #effet croisé des covariables sur la variable d'intérêt\n",
    "alphaCross_eZ[0,1] = 2 #effet croisé des covariables sur le propensity score\n",
    "alphaCross_eY[0,1] = 0 #effet croisé des covariables sur la variable d'intérêt\n",
    "alphaCross_eY[0,2] = -2 #effet croisé des covariables sur la variable d'intérêt\n",
    "alphaCross_eY[0,3] = 2 #effet croisé des covariables sur la variable d'intérêt\n",
    "df, tau_pf, tau_causal = f.genData(Nobs,alpha_tau,alpha_eZ,alpha_eY,alphaCross_eZ,alphaCross_eY)\n",
    "print('tau_pf = E[Y,Z=1] - E[Y,Z=0] =', round(tau_pf,ndigits=3))   \n",
    "print('tau_causal = E[Y(1)] - E[Y(0)] =', round(tau_causal ,ndigits=3))"
   ]
  },
  {
   "cell_type": "markdown",
   "metadata": {},
   "source": [
    "# Outcome regression : moyenne par strate"
   ]
  },
  {
   "cell_type": "code",
   "execution_count": 222,
   "metadata": {},
   "outputs": [
    {
     "name": "stdout",
     "output_type": "stream",
     "text": [
      "             E[Y|Z=0]  E[Y|Z=1]  N(Z=0)  N(Z=1)      Diff   Poids\n",
      "X1 X2 X3 X4                                                      \n",
      "0  0  0  0   0.860294  1.000000   272.0     9.0  0.139706   281.0\n",
      "         1   0.717033  1.000000   364.0    10.0  0.282967   374.0\n",
      "      1  0   0.925806  1.000000   310.0    32.0  0.074194   342.0\n",
      "         1   0.845149  1.000000   536.0    31.0  0.154851   567.0\n",
      "   1  0  0   0.451178  0.814159   297.0   113.0  0.362981   410.0\n",
      "         1   0.259887  0.611940   531.0    67.0  0.352053   598.0\n",
      "      1  0   0.707407  0.956229   270.0   297.0  0.248822   567.0\n",
      "         1   0.435860  0.851064   686.0   235.0  0.415204   921.0\n",
      "1  0  0  0   0.199396  0.677778   331.0    90.0  0.478382   421.0\n",
      "         1   0.411538  0.932203   520.0    59.0  0.520665   579.0\n",
      "      1  0   0.089506  0.411985   324.0   267.0  0.322479   591.0\n",
      "         1   0.227053  0.701031   621.0   194.0  0.473978   815.0\n",
      "   1  0  0   0.000000  0.245487    23.0   554.0  0.245487   577.0\n",
      "         1   0.086614  0.436039   127.0   727.0  0.349424   854.0\n",
      "      1  0   0.031250  0.076074    32.0   815.0  0.044824   847.0\n",
      "         1   0.031250  0.225671    64.0  1192.0  0.194421  1256.0\n",
      "\n",
      "tau_estimé = 0.294\n"
     ]
    }
   ],
   "source": [
    "# Regrouper par (X1, X2, Z) et calculer la moyenne de Y et l'effectif\n",
    "grouped = df.groupby(['X1', 'X2', 'X3', 'X4', 'Z']).agg(\n",
    "    mean_Y=('Y', 'mean'),\n",
    "    count=('Y', 'count')\n",
    ").reset_index()\n",
    "\n",
    "# Réorganiser les résultats pour avoir les colonnes séparées pour Z=0 et Z=1\n",
    "pivoted = grouped.pivot(index=['X1', 'X2', 'X3', 'X4'], columns='Z', values=['mean_Y', 'count'])\n",
    "\n",
    "# Renommer les colonnes pour plus de clarté\n",
    "pivoted.columns = ['E[Y|Z=0]', 'E[Y|Z=1]', 'N(Z=0)', 'N(Z=1)']\n",
    "pivoted = pivoted.fillna(0)  # Remplir les valeurs NaN si une combinaison (X1, X2, Z) est absente\n",
    "\n",
    "# Calcul de la différence E[Y | Z=1] - E[Y | Z=0]\n",
    "pivoted['Diff'] = pivoted['E[Y|Z=1]'] - pivoted['E[Y|Z=0]']\n",
    "\n",
    "# Calcul du poids total N(Z=0) + N(Z=1)\n",
    "pivoted['Poids'] = pivoted['N(Z=0)'] + pivoted['N(Z=1)']\n",
    "\n",
    "# Calcul de la moyenne pondérée\n",
    "tau_est1 = (pivoted['Diff'] * pivoted['Poids']).sum() / pivoted['Poids'].sum()\n",
    "\n",
    "# Affichage des résultats\n",
    "print(pivoted)\n",
    "print(\"\\ntau_estimé =\", round(tau_est1, 3))"
   ]
  },
  {
   "cell_type": "markdown",
   "metadata": {},
   "source": [
    "# Simulations OR et IPW"
   ]
  },
  {
   "cell_type": "code",
   "execution_count": 224,
   "metadata": {},
   "outputs": [
    {
     "name": "stdout",
     "output_type": "stream",
     "text": [
      "tau_pf = E[Y,Z=1] - E[Y,Z=0] = -0.07\n",
      "tau_causal = E[Y(1)] - E[Y(0)] = 0.291\n",
      "tau_estimé (OR reg. log.) = 0.296\n",
      "tau_estimé (OR arb. dec.) = 0.12\n",
      "tau_estimé (IPW reg.log.) = 0.323\n",
      "tau_estimé (IPW reg.log.) = 0.294\n"
     ]
    },
    {
     "data": {
      "image/png": "[encoded data removed]",
      "text/plain": [
       "<Figure size 640x480 with 1 Axes>"
      ]
     },
     "metadata": {},
     "output_type": "display_data"
    }
   ],
   "source": [
    "print('tau_pf = E[Y,Z=1] - E[Y,Z=0] =', round(tau_pf,ndigits=3))   \n",
    "print('tau_causal = E[Y(1)] - E[Y(0)] =', round(tau_causal ,ndigits=3))\n",
    "tau_est2 = f.regLogY(df)\n",
    "tau_est3 = f.regArbY(df)\n",
    "tau_est4, e_pred = f.regLogE(df)\n",
    "tau_est5, e_pred = f.regArbE(df)\n",
    "print(\"tau_estimé (OR reg. log.) =\", round(tau_est2, 3))\n",
    "print(\"tau_estimé (OR arb. dec.) =\", round(tau_est3, 3))\n",
    "print(\"tau_estimé (IPW reg.log.) =\", round(tau_est4, 3))\n",
    "print(\"tau_estimé (IPW reg.log.) =\", round(tau_est5, 3))\n",
    "\n",
    "# Tracer l'histogramme propensity score\n",
    "plt.hist(e_pred, bins=10, edgecolor='black', range=(0, 1))  # 'bins' définit le nombre de bacs dans l'histogramme\n",
    "\n",
    "# Ajouter des labels et un titre\n",
    "plt.xlabel('Valeurs')\n",
    "plt.ylabel('Fréquence')\n",
    "plt.title('Répartition des valeurs du propensity score prédit')\n",
    "\n",
    "# Afficher l'histogramme\n",
    "plt.show()"
   ]
  },
  {
   "cell_type": "code",
   "execution_count": null,
   "metadata": {},
   "outputs": [],
   "source": []
  }
 ],
 "metadata": {
  "kernelspec": {
   "display_name": "base",
   "language": "python",
   "name": "python3"
  },
  "language_info": {
   "codemirror_mode": {
    "name": "ipython",
    "version": 3
   },
   "file_extension": ".py",
   "mimetype": "text/x-python",
   "name": "python",
   "nbconvert_exporter": "python",
   "pygments_lexer": "ipython3",
   "version": "3.12.2"
  }
 },
 "nbformat": 4,
 "nbformat_minor": 2
}
